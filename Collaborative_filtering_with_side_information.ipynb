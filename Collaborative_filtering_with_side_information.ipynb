{
  "nbformat": 4,
  "nbformat_minor": 0,
  "metadata": {
    "colab": {
      "name": "Collaborative filtering with side information.ipynb",
      "provenance": [],
      "private_outputs": true,
      "collapsed_sections": [],
      "authorship_tag": "ABX9TyNBwzA41494CS7esWnzuPvH",
      "include_colab_link": true
    },
    "kernelspec": {
      "name": "python3",
      "display_name": "Python 3"
    },
    "accelerator": "GPU"
  },
  "cells": [
    {
      "cell_type": "markdown",
      "metadata": {
        "id": "view-in-github",
        "colab_type": "text"
      },
      "source": [
        "<a href=\"https://colab.research.google.com/github/CjRax/Pythonworkspace/blob/master/Collaborative_filtering_with_side_information.ipynb\" target=\"_parent\"><img src=\"https://colab.research.google.com/assets/colab-badge.svg\" alt=\"Open In Colab\"/></a>"
      ]
    },
    {
      "cell_type": "code",
      "metadata": {
        "id": "DCPv2HSqfHAH",
        "colab_type": "code",
        "colab": {}
      },
      "source": [
        "from google.colab import drive\n",
        "drive.mount('/content/gdrive')"
      ],
      "execution_count": 0,
      "outputs": []
    },
    {
      "cell_type": "code",
      "metadata": {
        "id": "FaR7xxf2fKXF",
        "colab_type": "code",
        "colab": {}
      },
      "source": [
        "import os\n",
        "java8_location= '/usr/lib/jvm/java-8-openjdk-amd64'\n",
        "os.environ['JAVA_HOME'] = java8_location\n",
        "main_location = \"/content/gdrive/My Drive/Colab Notebooks/Collaborative filtering with side information\"\n",
        "os.chdir(main_location)"
      ],
      "execution_count": 0,
      "outputs": []
    },
    {
      "cell_type": "code",
      "metadata": {
        "id": "5zT8FJB6kHAF",
        "colab_type": "code",
        "colab": {}
      },
      "source": [
        "!pip install cmfrec"
      ],
      "execution_count": 0,
      "outputs": []
    },
    {
      "cell_type": "code",
      "metadata": {
        "id": "5FkZGJOBfjsn",
        "colab_type": "code",
        "colab": {}
      },
      "source": [
        "import tensorflow as tf\n",
        "tf.__version__"
      ],
      "execution_count": 0,
      "outputs": []
    },
    {
      "cell_type": "code",
      "metadata": {
        "id": "f706ocUScNkK",
        "colab_type": "code",
        "colab": {}
      },
      "source": [
        "import numpy as np, pandas as pd, time, re\n",
        "from datetime import datetime\n",
        "from cmfrec import CMF\n",
        "\n",
        "ratings = pd.read_table('movielens/ml-1m/ratings.dat', sep='::', engine='python', names=['UserId','ItemId','Rating','Timestamp'])\n",
        "del ratings['Timestamp']\n",
        "ratings.head(5)"
      ],
      "execution_count": 0,
      "outputs": []
    },
    {
      "cell_type": "code",
      "metadata": {
        "id": "yA-HnO_rg1c2",
        "colab_type": "code",
        "colab": {}
      },
      "source": [
        "np.random.seed(1)\n",
        "user_ids = ratings.UserId.drop_duplicates().values\n",
        "item_ids = ratings.ItemId.drop_duplicates().values\n",
        "users_train = set(np.random.choice(user_ids, size=int(user_ids.shape[0] * .75), replace=False))\n",
        "items_train = set(np.random.choice(item_ids, size=int(item_ids.shape[0] * .75), replace=False))\n",
        "train = ratings.loc[ratings.UserId.isin(users_train) & ratings.ItemId.isin(items_train)].reset_index(drop=True)\n",
        "\n",
        "\n",
        "np.random.seed(1)\n",
        "train_ix = train.sample(frac=.85).index\n",
        "test_ix = np.setdiff1d(train.index.values, train_ix)\n",
        "test_warm_start = train.loc[test_ix].reset_index(drop=True)\n",
        "train = train.loc[train_ix].reset_index(drop=True)\n",
        "users_train = set(train.UserId)\n",
        "items_train = set(train.ItemId)\n",
        "test_warm_start = test_warm_start.loc[test_warm_start.UserId.isin(users_train) &\n",
        "                                      test_warm_start.ItemId.isin(items_train)].reset_index(drop=True)\n",
        "\n",
        "test_cold_start = ratings.loc[~ratings.UserId.isin(users_train) & ~ratings.ItemId.isin(items_train)].reset_index(drop=True)\n",
        "test_new_users = ratings.loc[(~ratings.UserId.isin(users_train)) & (ratings.ItemId.isin(items_train))].reset_index(drop=True)\n",
        "test_new_items = ratings.loc[(ratings.UserId.isin(users_train)) & (~ratings.ItemId.isin(items_train))].reset_index(drop=True)\n",
        "test_new_items_set = set(test_new_items.ItemId)\n",
        "users_coldstart = set(test_cold_start.UserId)\n",
        "items_coldstart = set(test_cold_start.ItemId)\n",
        "\n",
        "print(\"train.shape:\\t{}\".format(train.shape))\n",
        "print(\"test_warm_start:\\t{}\".format(test_warm_start.shape))\n",
        "\n",
        "print(\"Number of users_train:\\t{}\".format(len(users_train)))\n",
        "print(\"Number of items_train:\\t{}\".format(len(items_train)))"
      ],
      "execution_count": 0,
      "outputs": []
    },
    {
      "cell_type": "code",
      "metadata": {
        "id": "wqOQRMSIhbAc",
        "colab_type": "code",
        "colab": {}
      },
      "source": [
        "movie_titles = pd.read_table('movielens/ml-1m/movies.dat', sep='::', engine='python', header=None)\n",
        "movie_titles.columns = ['ItemId', 'title', 'genres']\n",
        "movie_titles = movie_titles[['ItemId', 'title']]\n",
        "\n",
        "# will save the movie titles for later\n",
        "movie_id_to_title = {i.ItemId:i.title for i in movie_titles.itertuples()}\n",
        "\n",
        "movies = pd.read_csv('movielens/ml-latest/movies.csv')\n",
        "movies = movies[['movieId', 'title']]\n",
        "movies = pd.merge(movies, movie_titles)\n",
        "movies = movies[['movieId', 'ItemId']]\n",
        "\n",
        "tags = pd.read_csv('movielens/ml-latest/genome-scores.csv')\n",
        "tags_wide = tags.pivot(index='movieId', columns='tagId', values='relevance')\n",
        "tags_wide.columns=[\"tag\"+str(i) for i in tags_wide.columns.values]\n",
        "\n",
        "item_side_info = pd.merge(movies, tags_wide, how='inner', left_on='movieId', right_index=True)\n",
        "del item_side_info['movieId']\n",
        "items_w_sideinfo = set(item_side_info.ItemId)\n",
        "test_new_items = test_new_items.loc[test_new_items.ItemId.isin(items_w_sideinfo)].reset_index(drop=True)\n",
        "item_sideinfo_train = item_side_info.loc[item_side_info.ItemId.isin(items_train)].reset_index(drop=True)\n",
        "item_sideinfo_testnew = item_side_info.loc[item_side_info.ItemId.isin(test_new_items_set)].reset_index(drop=True)\n",
        "test_cold_start = test_cold_start.loc[test_cold_start.ItemId.isin(items_w_sideinfo)].reset_index(drop=True)\n",
        "item_sideinfo_train.head()"
      ],
      "execution_count": 0,
      "outputs": []
    },
    {
      "cell_type": "code",
      "metadata": {
        "id": "XbZJaBV-hcq_",
        "colab_type": "code",
        "colab": {}
      },
      "source": [
        "from sklearn.decomposition import PCA\n",
        "\n",
        "pca_obj = PCA(n_components = 50)\n",
        "item_sideinfo_reduced = item_side_info.copy()\n",
        "del item_sideinfo_reduced['ItemId']\n",
        "pca_obj.fit(item_sideinfo_reduced)\n",
        "item_sideinfo_pca = pca_obj.transform(item_sideinfo_reduced)\n",
        "item_sideinfo_pca = pd.DataFrame(item_sideinfo_pca)\n",
        "item_sideinfo_pca.columns = [\"pc\"+str(i) for i in range(item_sideinfo_pca.shape[1])]\n",
        "item_sideinfo_pca['ItemId'] = item_side_info.ItemId.values.copy()\n",
        "\n",
        "item_sideinfo_pca_train = item_sideinfo_pca.loc[item_sideinfo_pca.ItemId.isin(items_train)].reset_index(drop=True)\n",
        "item_sideinfo_pca_testnew = item_sideinfo_pca.loc[item_sideinfo_pca.ItemId.isin(test_new_items_set)].reset_index(drop=True)\n",
        "item_sideinfo_pca_coldstart = item_sideinfo_pca.loc[item_sideinfo_pca.ItemId.isin(items_coldstart)].reset_index(drop=True)\n",
        "item_sideinfo_pca_train.head()\n"
      ],
      "execution_count": 0,
      "outputs": []
    },
    {
      "cell_type": "code",
      "metadata": {
        "id": "A9y0HSh3hd5T",
        "colab_type": "code",
        "colab": {}
      },
      "source": [
        "print(test_new_items.shape[0])\n",
        "print(test_new_items.ItemId.drop_duplicates().shape[0])"
      ],
      "execution_count": 0,
      "outputs": []
    },
    {
      "cell_type": "markdown",
      "metadata": {
        "id": "YymHIIE9hnWm",
        "colab_type": "text"
      },
      "source": [
        "## Processing user demographic info"
      ]
    },
    {
      "cell_type": "code",
      "metadata": {
        "id": "eWy1kxsVhmi5",
        "colab_type": "code",
        "colab": {}
      },
      "source": [
        "zipcode_abbs = pd.read_csv(\"movielens/states.csv\")\n",
        "zipcode_abbs_dct = {z.State:z.Abbreviation for z in zipcode_abbs.itertuples()}\n",
        "us_regs_table = [\n",
        "    ('New England', 'Connecticut, Maine, Massachusetts, New Hampshire, Rhode Island, Vermont'),\n",
        "    ('Middle Atlantic', 'Delaware, Maryland, New Jersey, New York, Pennsylvania'),\n",
        "    ('South', 'Alabama, Arkansas, Florida, Georgia, Kentucky, Louisiana, Mississippi, Missouri, North Carolina, South Carolina, Tennessee, Virginia, West Virginia'),\n",
        "    ('Midwest', 'Illinois, Indiana, Iowa, Kansas, Michigan, Minnesota, Nebraska, North Dakota, Ohio, South Dakota, Wisconsin'),\n",
        "    ('Southwest', 'Arizona, New Mexico, Oklahoma, Texas'),\n",
        "    ('West', 'Alaska, California, Colorado, Hawaii, Idaho, Montana, Nevada, Oregon, Utah, Washington, Wyoming')\n",
        "    ]\n",
        "us_regs_table = [(x[0], [i.strip() for i in x[1].split(\",\")]) for x in us_regs_table]\n",
        "us_regs_dct = dict()\n",
        "for r in us_regs_table:\n",
        "    for s in r[1]:\n",
        "        us_regs_dct[zipcode_abbs_dct[s]] = r[0]\n",
        "        \n",
        "zipcode_info = pd.read_csv(\"movielens/free-zipcode-database.csv\")\n",
        "zipcode_info = zipcode_info.groupby('Zipcode').first().reset_index()\n",
        "zipcode_info['State'].loc[zipcode_info.Country != \"US\"] = 'UnknownOrNonUS'\n",
        "zipcode_info['Region'] = zipcode_info['State'].copy()\n",
        "zipcode_info['Region'].loc[zipcode_info.Country == \"US\"] = \\\n",
        "        zipcode_info.Region\\\n",
        "        .loc[zipcode_info.Country == \"US\"]\\\n",
        "        .map(lambda x: us_regs_dct[x] if x in us_regs_dct else 'UsOther')\n",
        "zipcode_info = zipcode_info[['Zipcode', 'Region']]\n",
        "\n",
        "users = pd.read_table('movielens/ml-1m/users.dat', sep='::', names=[\"UserId\", \"Gender\", \"Age\", \"Occupation\", \"Zipcode\"], engine='python')\n",
        "users[\"Zipcode\"] = users.Zipcode.map(lambda x: np.int(re.sub(\"-.*\",\"\",x)))\n",
        "users = pd.merge(users,zipcode_info,on='Zipcode',how='left')\n",
        "users['Region'] = users.Region.fillna('UnknownOrNonUS')\n",
        "\n",
        "users['Occupation'] = users.Occupation.map(lambda x: str(x))\n",
        "users['Age'] = users.Age.map(lambda x: str(x))\n",
        "user_side_info = pd.get_dummies(users[['UserId', 'Gender', 'Age', 'Occupation', 'Region']])\n",
        "users_w_sideinfo = set(user_side_info.UserId)\n",
        "test_new_users = test_new_users.loc[test_new_users.ItemId.isin(users_w_sideinfo)].reset_index(drop=True)\n",
        "user_sideinfo_train = user_side_info.loc[user_side_info.UserId.isin(users_train)].reset_index(drop=True)\n",
        "test_cold_start = test_cold_start.loc[test_cold_start.UserId.isin(users_w_sideinfo)].reset_index(drop=True)\n",
        "user_sideinfo_train.head()\n"
      ],
      "execution_count": 0,
      "outputs": []
    },
    {
      "cell_type": "code",
      "metadata": {
        "id": "vNLVVb22heDB",
        "colab_type": "code",
        "colab": {}
      },
      "source": [
        "print(test_new_users.shape[0])\n",
        "print(test_new_users.UserId.drop_duplicates().shape[0])"
      ],
      "execution_count": 0,
      "outputs": []
    },
    {
      "cell_type": "code",
      "metadata": {
        "id": "DInd-VbGheFz",
        "colab_type": "code",
        "colab": {}
      },
      "source": [
        "print(test_cold_start.shape[0])\n",
        "print(test_cold_start.UserId.unique().shape[0])\n",
        "print(test_cold_start.ItemId.unique().shape[0])"
      ],
      "execution_count": 0,
      "outputs": []
    },
    {
      "cell_type": "markdown",
      "metadata": {
        "id": "M4PdyFnFhy1R",
        "colab_type": "text"
      },
      "source": [
        "## Basic model - only movie ratings"
      ]
    },
    {
      "cell_type": "code",
      "metadata": {
        "id": "jhi3GH2AhwQO",
        "colab_type": "code",
        "colab": {}
      },
      "source": [
        "%%time\n",
        "from copy import deepcopy\n",
        "from cmfrec import CMF\n",
        "\n",
        "model_no_side_info = CMF(k=40, reg_param=1e-4, random_seed=1)\n",
        "model_no_side_info.fit(deepcopy(train))\n",
        "test_warm_start['Predicted'] = model_no_side_info.predict(test_warm_start.UserId, test_warm_start.ItemId)\n"
      ],
      "execution_count": 0,
      "outputs": []
    },
    {
      "cell_type": "code",
      "metadata": {
        "id": "E2xsDoFvh5eC",
        "colab_type": "code",
        "colab": {}
      },
      "source": [
        "print(\"RMSE (no side info, warm start): \", np.sqrt(np.mean( (test_warm_start.Predicted - test_warm_start.Rating)**2) ))"
      ],
      "execution_count": 0,
      "outputs": []
    },
    {
      "cell_type": "code",
      "metadata": {
        "id": "7jex3fbTiAVn",
        "colab_type": "code",
        "colab": {}
      },
      "source": [
        "avg_ratings = train.groupby('ItemId')['Rating'].mean().to_frame().rename(columns={\"Rating\" : \"AvgRating\"})\n",
        "test_ = pd.merge(test_warm_start, avg_ratings, left_on='ItemId', right_index=True, how='left')\n",
        "\n",
        "print('Averge movie rating:', test_.groupby('UserId')['Rating'].mean().mean())\n",
        "print('Average rating for top-10 rated by each user:', test_.sort_values(['UserId','Rating'], ascending=False).groupby('UserId')['Rating'].head(10).mean())\n",
        "print('Average rating for bottom-10 rated by each user:', test_.sort_values(['UserId','Rating'], ascending=True).groupby('UserId')['Rating'].head(10).mean())\n",
        "print('Average rating for top-10 recommendations of best-rated movies:', test_.sort_values(['UserId','AvgRating'], ascending=False).groupby('UserId')['Rating'].head(10).mean())\n",
        "print('----------------------')\n",
        "print('Average rating for top-10 recommendations from this model:', test_.sort_values(['UserId','Predicted'], ascending=False).groupby('UserId')['Rating'].head(10).mean())\n",
        "print('Average rating for bottom-10 (non-)recommendations from this model:', test_.sort_values(['UserId','Predicted'], ascending=True).groupby('UserId')['Rating'].head(10).mean())"
      ],
      "execution_count": 0,
      "outputs": []
    },
    {
      "cell_type": "markdown",
      "metadata": {
        "id": "5KJQ0bsJiEDr",
        "colab_type": "text"
      },
      "source": [
        "## Model with user side information"
      ]
    },
    {
      "cell_type": "code",
      "metadata": {
        "id": "MYXM9xhniDm7",
        "colab_type": "code",
        "colab": {}
      },
      "source": [
        "%%time\n",
        "model_user_info = CMF(k=40, w_main=10.0, w_user=1.0, reg_param=1e-3, random_seed=1)\n",
        "model_user_info.fit(deepcopy(train),\n",
        "                    user_info=deepcopy(user_sideinfo_train),\n",
        "                    cols_bin_user=[cl for cl in user_side_info.columns if cl!='UserId'])\n",
        "test_warm_start['Predicted'] = model_user_info.predict(test_warm_start.UserId, test_warm_start.ItemId)"
      ],
      "execution_count": 0,
      "outputs": []
    },
    {
      "cell_type": "code",
      "metadata": {
        "id": "V-0D_HPIiIcr",
        "colab_type": "code",
        "colab": {}
      },
      "source": [
        "%%time\n",
        "model_user_info_all = CMF(k=40, w_main=10.0, w_user=1.0, reg_param=1e-3, random_seed=1)\n",
        "model_user_info_all.fit(deepcopy(train),\n",
        "                        user_info=deepcopy(user_side_info),\n",
        "                        cols_bin_user=[cl for cl in user_side_info.columns if cl!='UserId'])\n",
        "test_warm_start['PredictedAll'] = model_user_info_all.predict(test_warm_start.UserId, test_warm_start.ItemId)\n",
        "test_new_users['PredictedAll'] = model_user_info_all.predict(test_new_users.UserId, test_new_users.ItemId)"
      ],
      "execution_count": 0,
      "outputs": []
    },
    {
      "cell_type": "code",
      "metadata": {
        "id": "GyP07uwEiQL-",
        "colab_type": "code",
        "colab": {}
      },
      "source": [
        "print(\"Rho (user side info, warm start): \", np.corrcoef(test_warm_start.Predicted, test_warm_start.Rating)[0][1])\n",
        "print(\"Rho (user side info, warm start, extra users): \", np.corrcoef(test_warm_start.PredictedAll, test_warm_start.Rating)[0][1])\n",
        "# print(\"RMSE (user side info, new users, added afterwards): \", np.corrcoef(test_new_users.Predicted, test_new_users.Rating)[0][1])\n",
        "print(\"Rho (user side info, users trained without ratings): \", np.corrcoef(test_new_users.PredictedAll, test_new_users.Rating)[0][1])"
      ],
      "execution_count": 0,
      "outputs": []
    },
    {
      "cell_type": "code",
      "metadata": {
        "id": "aT53tfzmiQSG",
        "colab_type": "code",
        "colab": {}
      },
      "source": [
        "avg_ratings = train.groupby('ItemId')['Rating'].mean().to_frame().rename(columns={\"Rating\" : \"AvgRating\"})\n",
        "test_ = pd.merge(test_warm_start, avg_ratings, left_on='ItemId', right_index=True, how='left')\n",
        "\n",
        "print('Averge movie rating:', test_.groupby('UserId')['Rating'].mean().mean())\n",
        "print('Average rating for top-10 rated by each user:', test_.sort_values(['UserId','Rating'], ascending=False).groupby('UserId')['Rating'].head(10).mean())\n",
        "print('Average rating for bottom-10 rated by each user:', test_.sort_values(['UserId','Rating'], ascending=True).groupby('UserId')['Rating'].head(10).mean())\n",
        "print('Average rating for top-10 recommendations of best-rated movies:', test_.sort_values(['UserId','AvgRating'], ascending=False).groupby('UserId')['Rating'].head(10).mean())\n",
        "print('----------------------')\n",
        "print('Average rating for top-10 recommendations from this model:', test_.sort_values(['UserId','Predicted'], ascending=False).groupby('UserId')['Rating'].head(10).mean())\n",
        "print('Average rating for bottom-10 (non-)recommendations from this model:', test_.sort_values(['UserId','Predicted'], ascending=True).groupby('UserId')['Rating'].head(10).mean())"
      ],
      "execution_count": 0,
      "outputs": []
    },
    {
      "cell_type": "code",
      "metadata": {
        "id": "iBcdeXaviWFG",
        "colab_type": "code",
        "colab": {}
      },
      "source": [
        "print('Average rating for top-10 recommendations (per user) from this model per configuration')\n",
        "print('warm start: ', test_warm_start.sort_values(['UserId','Predicted'], ascending=False).groupby('UserId')['Rating'].head(10).mean())\n",
        "print('warm start, extra users: ', test_warm_start.sort_values(['UserId','PredictedAll'], ascending=False).groupby('UserId')['Rating'].head(10).mean())\n",
        "# print('new users, added afterwards: ', test_new_users.sort_values(['UserId','Predicted'], ascending=False).groupby('UserId')['Rating'].head(10).mean())\n",
        "print('users trained without ratings: ', test_new_users.sort_values(['UserId','PredictedAll'], ascending=False).groupby('UserId')['Rating'].head(10).mean())"
      ],
      "execution_count": 0,
      "outputs": []
    },
    {
      "cell_type": "code",
      "metadata": {
        "id": "bhI5i8ujiWkZ",
        "colab_type": "code",
        "colab": {}
      },
      "source": [
        "%%time\n",
        "model_user_info2 = CMF(k=40, reg_param=1e-4, offsets_model=True, random_seed=1)\n",
        "model_user_info2.fit(deepcopy(train),\n",
        "                     user_info = deepcopy(user_sideinfo_train))\n",
        "test_warm_start['Predicted'] = model_user_info2.predict(test_warm_start.UserId, test_warm_start.ItemId)"
      ],
      "execution_count": 0,
      "outputs": []
    },
    {
      "cell_type": "code",
      "metadata": {
        "id": "BI2_nON5iW95",
        "colab_type": "code",
        "colab": {}
      },
      "source": [
        "%%time\n",
        "for u in list(test_new_users.UserId.unique()):\n",
        "    user_vec = deepcopy(user_side_info.loc[user_side_info.UserId == u])\n",
        "    del user_vec['UserId']\n",
        "    user_vec = user_vec.values.reshape((1, -1))\n",
        "    model_user_info2.add_user(new_id = u, attributes = user_vec)\n",
        "test_new_users['Predicted'] = model_user_info2.predict(test_new_users.UserId, test_new_users.ItemId)"
      ],
      "execution_count": 0,
      "outputs": []
    },
    {
      "cell_type": "code",
      "metadata": {
        "id": "nbZ3zXpfiXB6",
        "colab_type": "code",
        "colab": {}
      },
      "source": [
        "print(\"RMSE (user side info, warm start): \", np.sqrt(np.mean( (test_warm_start.Predicted - test_warm_start.Rating)**2) ))\n",
        "print(\"RMSE (user side info, new users, added afterwards): \", np.sqrt(np.mean( (test_new_users.Predicted - test_new_users.Rating)**2) ))"
      ],
      "execution_count": 0,
      "outputs": []
    },
    {
      "cell_type": "code",
      "metadata": {
        "id": "gmQ9NpBricUg",
        "colab_type": "code",
        "colab": {}
      },
      "source": [
        "print(\"Rho (user side info, warm start): \", np.corrcoef(test_warm_start.Predicted, test_warm_start.Rating)[0][1])\n",
        "print(\"Rho (user side info, new users, added afterwards): \", np.corrcoef(test_new_users.Predicted, test_new_users.Rating)[0][1])"
      ],
      "execution_count": 0,
      "outputs": []
    },
    {
      "cell_type": "code",
      "metadata": {
        "id": "AY6541gMicdC",
        "colab_type": "code",
        "colab": {}
      },
      "source": [
        "avg_ratings = train.groupby('ItemId')['Rating'].mean().to_frame().rename(columns={\"Rating\" : \"AvgRating\"})\n",
        "test_ = pd.merge(test_warm_start, avg_ratings, left_on='ItemId', right_index=True, how='left')\n",
        "\n",
        "print('Averge movie rating:', test_.groupby('UserId')['Rating'].mean().mean())\n",
        "print('Average rating for top-10 rated by each user:', test_.sort_values(['UserId','Rating'], ascending=False).groupby('UserId')['Rating'].head(10).mean())\n",
        "print('Average rating for bottom-10 rated by each user:', test_.sort_values(['UserId','Rating'], ascending=True).groupby('UserId')['Rating'].head(10).mean())\n",
        "print('Average rating for top-10 recommendations of best-rated movies:', test_.sort_values(['UserId','AvgRating'], ascending=False).groupby('UserId')['Rating'].head(10).mean())\n",
        "print('----------------------')\n",
        "print('Average rating for top-10 recommendations from this model:', test_.sort_values(['UserId','Predicted'], ascending=False).groupby('UserId')['Rating'].head(10).mean())\n",
        "print('Average rating for bottom-10 (non-)recommendations from this model:', test_.sort_values(['UserId','Predicted'], ascending=True).groupby('UserId')['Rating'].head(10).mean())"
      ],
      "execution_count": 0,
      "outputs": []
    },
    {
      "cell_type": "code",
      "metadata": {
        "id": "3ylkAf3ciciD",
        "colab_type": "code",
        "colab": {}
      },
      "source": [
        "print('Average rating for top-10 recommendations (per user) from this model per configuration')\n",
        "print('warm start: ', test_warm_start.sort_values(['UserId','Predicted'], ascending=False).groupby('UserId')['Rating'].head(10).mean())\n",
        "print('new users, added afterwards: ', test_new_users.sort_values(['UserId','Predicted'], ascending=False).groupby('UserId')['Rating'].head(10).mean())"
      ],
      "execution_count": 0,
      "outputs": []
    },
    {
      "cell_type": "markdown",
      "metadata": {
        "id": "c52EGtNXi8hw",
        "colab_type": "text"
      },
      "source": [
        "## Model with item side information"
      ]
    },
    {
      "cell_type": "code",
      "metadata": {
        "id": "vuXQRjiii9mZ",
        "colab_type": "code",
        "colab": {}
      },
      "source": [
        "%%time\n",
        "model_item_info = CMF(k=35, k_main=15, k_item=10, reg_param=1e-3, w_main=10.0, w_item=0.5, random_seed=1)\n",
        "model_item_info.fit(deepcopy(train),\n",
        "                    item_info = deepcopy(item_sideinfo_train))\n",
        "test_warm_start['Predicted'] = model_item_info.predict(test_warm_start.UserId, test_warm_start.ItemId)"
      ],
      "execution_count": 0,
      "outputs": []
    },
    {
      "cell_type": "code",
      "metadata": {
        "id": "A3tL91FFi_vC",
        "colab_type": "code",
        "colab": {}
      },
      "source": [
        "%%time\n",
        "model_item_info_all = CMF(k=35, k_main=15, k_item=10, reg_param=1e-3, w_main=10.0, w_item=0.5, random_seed=1)\n",
        "model_item_info_all.fit(deepcopy(train), item_info = deepcopy(item_side_info))\n",
        "test_warm_start['PredictedAll'] = model_item_info_all.predict(test_warm_start.UserId, test_warm_start.ItemId)\n",
        "test_new_items['PredictedAll'] = model_item_info_all.predict(test_new_items.UserId, test_new_items.ItemId)"
      ],
      "execution_count": 0,
      "outputs": []
    },
    {
      "cell_type": "code",
      "metadata": {
        "id": "pum-DgBIsTar",
        "colab_type": "code",
        "colab": {}
      },
      "source": [
        "%%time\n",
        "model_item_info_diffweight = CMF(k=50, k_main=0, k_item=0, reg_param=1e-3, w_main=5.0, w_item=5.0, random_seed=1)\n",
        "model_item_info_diffweight.fit(deepcopy(train), item_info = deepcopy(item_side_info))\n",
        "test_warm_start['PredictedAll2'] = model_item_info_diffweight.predict(test_warm_start.UserId, test_warm_start.ItemId)\n",
        "test_new_items['PredictedAll2'] = model_item_info_diffweight.predict(test_new_items.UserId, test_new_items.ItemId)"
      ],
      "execution_count": 0,
      "outputs": []
    },
    {
      "cell_type": "code",
      "metadata": {
        "id": "TRhS-_1EsWZp",
        "colab_type": "code",
        "colab": {}
      },
      "source": [
        "print(\"RMSE (item side info, warm start): \", np.sqrt(np.mean( (test_warm_start.Predicted - test_warm_start.Rating)**2) ))\n",
        "print(\"RMSE (item side info, warm start, extra items): \", np.sqrt(np.mean( (test_warm_start.PredictedAll - test_warm_start.Rating)**2) ))\n",
        "print(\"RMSE (item side info, warm start, extra items, diff. weighting): \", np.sqrt(np.mean( (test_warm_start.PredictedAll2 - test_warm_start.Rating)**2) ))\n",
        "# print(\"RMSE (item side info, new items, added afterwards): \", np.sqrt(np.mean( (test_new_items.Predicted - test_new_items.Rating)**2) ))\n",
        "print(\"RMSE (item side info, items trained without ratings): \", np.sqrt(np.mean( (test_new_items.PredictedAll - test_new_items.Rating)**2) ))\n",
        "print(\"RMSE (item side info, items trained without ratings, diff. weighting): \", np.sqrt(np.mean( (test_new_items.PredictedAll2 - test_new_items.Rating)**2) ))\n"
      ],
      "execution_count": 0,
      "outputs": []
    },
    {
      "cell_type": "code",
      "metadata": {
        "id": "S3Sskft2sWiE",
        "colab_type": "code",
        "colab": {}
      },
      "source": [
        "print(\"Rho (item side info, warm start): \", np.corrcoef(test_warm_start.Predicted, test_warm_start.Rating)[0][1])\n",
        "print(\"Rho (item side info, warm start, extra items): \", np.corrcoef(test_warm_start.PredictedAll, test_warm_start.Rating)[0][1])\n",
        "print(\"Rho (item side info, warm start, extra items, diff. weighting): \", np.corrcoef(test_warm_start.PredictedAll2, test_warm_start.Rating)[0][1])\n",
        "# print(\"Rho (item side info, new items, added afterwards): \", np.corrcoef(test_new_items.Predicted, test_new_items.Rating)[0][1])\n",
        "print(\"Rho (item side info, items trained without ratings): \", np.corrcoef(test_new_items.PredictedAll, test_new_items.Rating)[0][1])\n",
        "print(\"Rho (item side info, items trained without ratings, diff. weighting): \", np.corrcoef(test_new_items.PredictedAll2, test_new_items.Rating)[0][1])"
      ],
      "execution_count": 0,
      "outputs": []
    },
    {
      "cell_type": "code",
      "metadata": {
        "id": "RIoNJMVUsWll",
        "colab_type": "code",
        "colab": {}
      },
      "source": [
        "avg_ratings = train.groupby('ItemId')['Rating'].mean().to_frame().rename(columns={\"Rating\" : \"AvgRating\"})\n",
        "test_ = pd.merge(test_warm_start, avg_ratings, left_on='ItemId', right_index=True, how='left')\n",
        "\n",
        "print('Averge movie rating:', test_.groupby('UserId')['Rating'].mean().mean())\n",
        "print('Average rating for top-10 rated by each user:', test_.sort_values(['UserId','Rating'], ascending=False).groupby('UserId')['Rating'].head(10).mean())\n",
        "print('Average rating for bottom-10 rated by each user:', test_.sort_values(['UserId','Rating'], ascending=True).groupby('UserId')['Rating'].head(10).mean())\n",
        "print('Average rating for top-10 recommendations of best-rated movies:', test_.sort_values(['UserId','AvgRating'], ascending=False).groupby('UserId')['Rating'].head(10).mean())\n",
        "print('----------------------')\n",
        "print('Average rating for top-10 recommendations from this model:', test_.sort_values(['UserId','Predicted'], ascending=False).groupby('UserId')['Rating'].head(10).mean())\n",
        "print('Average rating for bottom-10 (non-)recommendations from this model:', test_.sort_values(['UserId','Predicted'], ascending=True).groupby('UserId')['Rating'].head(10).mean())"
      ],
      "execution_count": 0,
      "outputs": []
    },
    {
      "cell_type": "code",
      "metadata": {
        "id": "SlqR9vGAsWo2",
        "colab_type": "code",
        "colab": {}
      },
      "source": [
        "print('Average rating for top-10 recommendations (per user) from this model per configuration')\n",
        "print('warm start: ', test_warm_start.sort_values(['UserId','Predicted'], ascending=False).groupby('UserId')['Rating'].head(10).mean())\n",
        "print('warm start, extra items: ', test_warm_start.sort_values(['UserId','PredictedAll'], ascending=False).groupby('UserId')['Rating'].head(10).mean())\n",
        "# print('new items, added afterwards: ', test_new_items.sort_values(['UserId','Predicted'], ascending=False).groupby('UserId')['Rating'].head(10).mean())\n",
        "print('items trained without ratings: ', test_new_items.sort_values(['UserId','PredictedAll'], ascending=False).groupby('UserId')['Rating'].head(10).mean())\n",
        "print('items trained without ratings, diff. weighting: ', test_new_items.sort_values(['UserId','PredictedAll2'], ascending=False).groupby('UserId')['Rating'].head(10).mean())"
      ],
      "execution_count": 0,
      "outputs": []
    },
    {
      "cell_type": "markdown",
      "metadata": {
        "id": "rTHM_pCsts8Y",
        "colab_type": "text"
      },
      "source": [
        "### Offsets model"
      ]
    },
    {
      "cell_type": "code",
      "metadata": {
        "id": "TjoFF3zLsn1e",
        "colab_type": "code",
        "colab": {}
      },
      "source": [
        "%%time\n",
        "model_item_info2 = CMF(k=50, reg_param=1e-4, offsets_model=True, random_seed=1)\n",
        "model_item_info2.fit(deepcopy(train), item_info = deepcopy(item_sideinfo_pca_train))\n",
        "test_warm_start['Predicted'] = model_item_info2.predict(test_warm_start.UserId, test_warm_start.ItemId)"
      ],
      "execution_count": 0,
      "outputs": []
    },
    {
      "cell_type": "code",
      "metadata": {
        "id": "U544R64usrSl",
        "colab_type": "code",
        "colab": {}
      },
      "source": [
        "%%time\n",
        "for i in list(test_new_items.ItemId.unique()):\n",
        "    item_vec = deepcopy(item_sideinfo_pca.loc[item_sideinfo_pca.ItemId == i])\n",
        "    del item_vec['ItemId']\n",
        "    item_vec = item_vec.values.reshape((1, -1))\n",
        "    model_item_info2.add_item(new_id = i, attributes = item_vec)\n",
        "test_new_items['Predicted'] = model_item_info2.predict(test_new_items.UserId, test_new_items.ItemId)"
      ],
      "execution_count": 0,
      "outputs": []
    },
    {
      "cell_type": "code",
      "metadata": {
        "id": "NnQijQ8fssIg",
        "colab_type": "code",
        "colab": {}
      },
      "source": [
        "print(\"RMSE (item side info, warm start): \", np.sqrt(np.mean( (test_warm_start.Predicted - test_warm_start.Rating)**2) ))\n",
        "print(\"RMSE (item side info, new items, added afterwards): \", np.sqrt(np.mean( (test_new_items.Predicted - test_new_items.Rating)**2) ))"
      ],
      "execution_count": 0,
      "outputs": []
    },
    {
      "cell_type": "code",
      "metadata": {
        "id": "u7tjitOJssLZ",
        "colab_type": "code",
        "colab": {}
      },
      "source": [
        "print(\"Rho (item side info, warm start): \", np.corrcoef(test_warm_start.Predicted, test_warm_start.Rating)[0][1])\n",
        "print(\"Rho (item side info, new items, added afterwards): \", np.corrcoef(test_new_items.Predicted, test_new_items.Rating)[0][1])"
      ],
      "execution_count": 0,
      "outputs": []
    },
    {
      "cell_type": "code",
      "metadata": {
        "id": "4ocCBHVkssXs",
        "colab_type": "code",
        "colab": {}
      },
      "source": [
        "avg_ratings = train.groupby('ItemId')['Rating'].mean().to_frame().rename(columns={\"Rating\" : \"AvgRating\"})\n",
        "test_ = pd.merge(test_warm_start, avg_ratings, left_on='ItemId', right_index=True, how='left')\n",
        "\n",
        "print('Averge movie rating:', test_.groupby('UserId')['Rating'].mean().mean())\n",
        "print('Average rating for top-10 rated by each user:', test_.sort_values(['UserId','Rating'], ascending=False).groupby('UserId')['Rating'].head(10).mean())\n",
        "print('Average rating for bottom-10 rated by each user:', test_.sort_values(['UserId','Rating'], ascending=True).groupby('UserId')['Rating'].head(10).mean())\n",
        "print('Average rating for top-10 recommendations of best-rated movies:', test_.sort_values(['UserId','AvgRating'], ascending=False).groupby('UserId')['Rating'].head(10).mean())\n",
        "print('----------------------')\n",
        "print('Average rating for top-10 recommendations from this model:', test_.sort_values(['UserId','Predicted'], ascending=False).groupby('UserId')['Rating'].head(10).mean())\n",
        "print('Average rating for bottom-10 (non-)recommendations from this model:', test_.sort_values(['UserId','Predicted'], ascending=True).groupby('UserId')['Rating'].head(10).mean())"
      ],
      "execution_count": 0,
      "outputs": []
    },
    {
      "cell_type": "code",
      "metadata": {
        "id": "J3mgvuRvs6ct",
        "colab_type": "code",
        "colab": {}
      },
      "source": [
        "print('Average rating for top-10 recommendations (per user) from this model per configuration')\n",
        "print('warm start: ', test_warm_start.sort_values(['UserId','Predicted'], ascending=False).groupby('UserId')['Rating'].head(10).mean())\n",
        "print('new items, added afterwards: ', test_new_items.sort_values(['UserId','Predicted'], ascending=False).groupby('UserId')['Rating'].head(10).mean())"
      ],
      "execution_count": 0,
      "outputs": []
    },
    {
      "cell_type": "markdown",
      "metadata": {
        "id": "Ddt6FQRHuQqv",
        "colab_type": "text"
      },
      "source": [
        "## Full model"
      ]
    },
    {
      "cell_type": "code",
      "metadata": {
        "id": "_N0B67-GuPGn",
        "colab_type": "code",
        "colab": {}
      },
      "source": [
        "%%time\n",
        "model_user_item_info = CMF(k=40, k_main=10, k_user=5, k_item=15,\n",
        "                           w_main=1.0, w_user=2.0, w_item=0.05,\n",
        "                           reg_param=5e-5, random_seed=1)\n",
        "model_user_item_info.fit(deepcopy(train),\n",
        "                         user_info=deepcopy(user_side_info),\n",
        "                         item_info=deepcopy(item_side_info),\n",
        "                         cols_bin_user=[cl for cl in user_side_info.columns if cl!='UserId'])\n",
        "test_warm_start['PredictedAll'] = model_user_item_info.predict(test_warm_start.UserId, test_warm_start.ItemId)\n",
        "test_cold_start['PredictedAll'] = model_user_item_info.predict(test_cold_start.UserId, test_cold_start.ItemId)\n",
        "test_new_users['PredictedAll'] = model_user_item_info.predict(test_new_users.UserId, test_new_users.ItemId)\n",
        "test_new_items['PredictedAll'] = model_user_item_info.predict(test_new_items.UserId, test_new_items.ItemId)"
      ],
      "execution_count": 0,
      "outputs": []
    },
    {
      "cell_type": "code",
      "metadata": {
        "id": "jgoHRasyuUip",
        "colab_type": "code",
        "colab": {}
      },
      "source": [
        "print(\"RMSE (user and item side info, warm start, extra users and items): \", np.sqrt(np.mean( (test_warm_start.PredictedAll - test_warm_start.Rating)**2) ))\n",
        "print(\"RMSE (user and item side info, cold start): \", np.sqrt(np.mean( (test_cold_start.PredictedAll - test_cold_start.Rating)**2) ))\n",
        "print(\"RMSE (user and item side info, users trained without ratings, extra items): \", np.sqrt(np.mean( (test_new_users.PredictedAll - test_new_users.Rating)**2) ))\n",
        "print(\"RMSE (user and item side info, items trained without ratings, extra users): \", np.sqrt(np.mean( (test_new_items.PredictedAll - test_new_items.Rating)**2) ))"
      ],
      "execution_count": 0,
      "outputs": []
    },
    {
      "cell_type": "code",
      "metadata": {
        "id": "h_hOGnCyuYE9",
        "colab_type": "code",
        "colab": {}
      },
      "source": [
        "print(\"Rho (user and item side info, warm start, extra users and items): \", np.corrcoef(test_warm_start.PredictedAll, test_warm_start.Rating)[0][1])\n",
        "print(\"Rho (user and item side info, cold start): \", np.corrcoef(test_cold_start.PredictedAll, test_cold_start.Rating)[0][1])\n",
        "print(\"Rho (user and item side info, users trained without ratings, extra items): \", np.corrcoef(test_new_users.PredictedAll, test_new_users.Rating)[0][1])\n",
        "print(\"Rho (user and item side info, items trained without ratings, extra users): \", np.corrcoef(test_new_items.PredictedAll, test_new_items.Rating)[0][1])"
      ],
      "execution_count": 0,
      "outputs": []
    },
    {
      "cell_type": "code",
      "metadata": {
        "id": "zeG5EoLpuYJ7",
        "colab_type": "code",
        "colab": {}
      },
      "source": [
        "print('Average rating for top-10 recommendations (per user) from this model per configuration')\n",
        "print('warm start, extra users and items: ', test_warm_start.sort_values(['UserId','PredictedAll'], ascending=False).groupby('UserId')['Rating'].head(10).mean())\n",
        "print('cold start: ', test_cold_start.sort_values(['UserId','PredictedAll'], ascending=False).groupby('UserId')['Rating'].head(10).mean())\n",
        "print('users trained without ratings: ', test_new_users.sort_values(['UserId','PredictedAll'], ascending=False).groupby('UserId')['Rating'].head(10).mean())\n",
        "print('items trained without ratings: ', test_new_items.sort_values(['UserId','PredictedAll'], ascending=False).groupby('UserId')['Rating'].head(10).mean())"
      ],
      "execution_count": 0,
      "outputs": []
    },
    {
      "cell_type": "code",
      "metadata": {
        "id": "HyMR5el7uYM1",
        "colab_type": "code",
        "colab": {}
      },
      "source": [
        "%%time\n",
        "model_user_item_info2 = CMF(k=50, reg_param=5e-3, offsets_model=True, random_seed=1)\n",
        "model_user_item_info2.fit(deepcopy(train),\n",
        "                          user_info=deepcopy(user_sideinfo_train),\n",
        "                          item_info=deepcopy(item_sideinfo_pca_train))\n",
        "test_warm_start['Predicted'] = model_user_item_info2.predict(test_warm_start.UserId, test_warm_start.ItemId)"
      ],
      "execution_count": 0,
      "outputs": []
    },
    {
      "cell_type": "code",
      "metadata": {
        "id": "dIljX9tjuYQU",
        "colab_type": "code",
        "colab": {}
      },
      "source": [
        "%%time\n",
        "for u in list(np.unique(np.r_[test_new_users.UserId, test_cold_start.UserId])):\n",
        "    user_vec = deepcopy(user_side_info.loc[user_side_info.UserId == u])\n",
        "    del user_vec['UserId']\n",
        "    user_vec = user_vec.values.reshape((1, -1))\n",
        "    model_user_item_info2.add_user(new_id = u, attributes = user_vec)\n",
        "\n",
        "for i in list(np.unique(np.r_[test_new_items.ItemId.unique(), test_cold_start.ItemId.unique()])):\n",
        "    item_vec = deepcopy(item_sideinfo_pca.loc[item_sideinfo_pca.ItemId == i])\n",
        "    if item_vec.shape[0] > 0:\n",
        "        del item_vec['ItemId']\n",
        "        item_vec = item_vec.values.reshape((1, -1))\n",
        "        model_user_item_info2.add_item(new_id = i, attributes = item_vec)\n",
        "test_new_users['Predicted'] = model_user_item_info2.predict(test_new_users.UserId, test_new_users.ItemId)\n",
        "test_new_items['Predicted'] = model_user_item_info2.predict(test_new_items.UserId, test_new_items.ItemId)\n",
        "test_cold_start['Predicted'] = model_user_item_info2.predict(test_cold_start.UserId, test_cold_start.ItemId)"
      ],
      "execution_count": 0,
      "outputs": []
    },
    {
      "cell_type": "code",
      "metadata": {
        "id": "uLQSjUhgugUD",
        "colab_type": "code",
        "colab": {}
      },
      "source": [
        "print(\"RMSE (user and item side info, warm start, extra users and items): \", np.sqrt(np.mean( (test_warm_start.Predicted - test_warm_start.Rating)**2) ))\n",
        "print(\"RMSE (user and item side info, cold start, users and items added afterwards): \", np.sqrt(np.mean( (test_cold_start.Predicted - test_cold_start.Rating)**2) ))\n",
        "print(\"RMSE (user and item side info, users added afterwards): \", np.sqrt(np.mean( (test_new_users.Predicted - test_new_users.Rating)**2) ))\n",
        "print(\"RMSE (user and item side info, items added afterwards): \", np.sqrt(np.mean( (test_new_items.Predicted - test_new_items.Rating)**2) ))"
      ],
      "execution_count": 0,
      "outputs": []
    },
    {
      "cell_type": "code",
      "metadata": {
        "id": "zPqHbHDGugX1",
        "colab_type": "code",
        "colab": {}
      },
      "source": [
        "print(\"Rho (user and item side info, warm start, extra users and items): \", np.corrcoef(test_warm_start.Predicted, test_warm_start.Rating)[0][1])\n",
        "print(\"Rho (user and item side info, cold start, users and items added afterwards): \", np.corrcoef(test_cold_start.Predicted, test_cold_start.Rating)[0][1])\n",
        "print(\"Rho (user and item side info, users added afterwards): \", np.corrcoef(test_new_users.Predicted, test_new_users.Rating)[0][1])\n",
        "print(\"Rho (user and item side info, items added afterwards): \", np.corrcoef(test_new_items.Predicted, test_new_items.Rating)[0][1])"
      ],
      "execution_count": 0,
      "outputs": []
    },
    {
      "cell_type": "code",
      "metadata": {
        "id": "pwaNG4KZuga_",
        "colab_type": "code",
        "colab": {}
      },
      "source": [
        "print('Average rating for top-10 recommendations (per user) from this model per configuration')\n",
        "print('warm start: ', test_warm_start.sort_values(['UserId','Predicted'], ascending=False).groupby('UserId')['Rating'].head(10).mean())\n",
        "print('cold start: ', test_cold_start.sort_values(['UserId','Predicted'], ascending=False).groupby('UserId')['Rating'].head(10).mean())\n",
        "print('users added afterwards: ', test_new_users.sort_values(['UserId','Predicted'], ascending=False).groupby('UserId')['Rating'].head(10).mean())\n",
        "print('items added afterwards: ', test_new_items.sort_values(['UserId','Predicted'], ascending=False).groupby('UserId')['Rating'].head(10).mean())"
      ],
      "execution_count": 0,
      "outputs": []
    },
    {
      "cell_type": "markdown",
      "metadata": {
        "id": "OwJSmw21urvo",
        "colab_type": "text"
      },
      "source": [
        "## Examining some recomendations"
      ]
    },
    {
      "cell_type": "code",
      "metadata": {
        "id": "-r8RBhSZusoM",
        "colab_type": "code",
        "colab": {}
      },
      "source": [
        "from collections import defaultdict\n",
        "\n",
        "# aggregate statistics\n",
        "avg_movie_rating = defaultdict(lambda: 0)\n",
        "num_ratings_per_movie = defaultdict(lambda: 0)\n",
        "for i in train.groupby('ItemId')['Rating'].mean().to_frame().itertuples():\n",
        "    avg_movie_rating[i.Index] = i.Rating\n",
        "for i in train.groupby('ItemId')['Rating'].agg(lambda x: len(tuple(x))).to_frame().itertuples():\n",
        "    num_ratings_per_movie[i.Index] = i.Rating\n",
        "\n",
        "# function to print recommended lists more nicely\n",
        "def print_reclist(reclist):\n",
        "    list_w_info = [str(m + 1) + \") - \" + movie_id_to_title[reclist[m]] +\\\n",
        "        \" - Average Rating: \" + str(np.round(avg_movie_rating[reclist[m]], 2))+\\\n",
        "        \" - Number of ratings: \" + str(num_ratings_per_movie[reclist[m]])\\\n",
        "                   for m in range(len(reclist))]\n",
        "    print(\"\\n\".join(list_w_info))\n"
      ],
      "execution_count": 0,
      "outputs": []
    },
    {
      "cell_type": "code",
      "metadata": {
        "id": "GYs6Oha2utAg",
        "colab_type": "code",
        "colab": {}
      },
      "source": [
        "reclist1 = model_no_side_info.topN(user=948, n=10, exclude_seen=True)\n",
        "reclist2 = model_user_info_all.topN(user=948, n=10, exclude_seen=True)\n",
        "reclist3 = model_item_info_all.topN(user=948, n=10, exclude_seen=True)\n",
        "reclist4 = model_user_item_info.topN(user=948, n=10, exclude_seen=True)\n",
        "reclist5 = model_user_item_info2.topN(user=948, n=10, exclude_seen=True)\n",
        "\n",
        "print('Recommendations from ratings-only model:')\n",
        "print_reclist(reclist1)\n",
        "print(\"------\")\n",
        "print('Recommendations from ratings + user demographics model:')\n",
        "print_reclist(reclist2)\n",
        "print(\"------\")\n",
        "print('Recommendations from ratings + movie tags model:')\n",
        "print_reclist(reclist3)\n",
        "print(\"------\")\n",
        "print('Recommendations from ratings + user demographics + movie tags model:')\n",
        "print_reclist(reclist4)\n",
        "print(\"------\")\n",
        "print('Recommendations from ratings + user demographics + movie tags model (alternative formulation):')\n",
        "print_reclist(reclist5)"
      ],
      "execution_count": 0,
      "outputs": []
    },
    {
      "cell_type": "code",
      "metadata": {
        "id": "GaAeN0l4utEB",
        "colab_type": "code",
        "colab": {}
      },
      "source": [
        "# reclist1 = model_no_side_info.topN(user=1, n=10) # not possible with this model\n",
        "reclist2 = model_user_info_all.topN(user=1, n=10)\n",
        "# reclist3 = model_item_info_all.topN(user=1, n=10) # not possible with this model\n",
        "reclist4 = model_user_item_info.topN(user=1, n=10)\n",
        "reclist5 = model_user_item_info2.topN(user=1, n=10)\n",
        "\n",
        "# print('Recommendations from ratings-only model:')\n",
        "# print_reclist(reclist1)\n",
        "# print(\"------\")\n",
        "print('Recommendations from ratings + user demographics model:')\n",
        "print_reclist(reclist2)\n",
        "# print(\"------\")\n",
        "# print('Recommendations from ratings + movie tags model:')\n",
        "# print_reclist(reclist3)\n",
        "print(\"------\")\n",
        "print('Recommendations from ratings + user demographics + movie tags model:')\n",
        "print_reclist(reclist4)\n",
        "print(\"------\")\n",
        "print('Recommendations from ratings + user demographics + movie tags model (alternative formulation):')\n",
        "print_reclist(reclist5)"
      ],
      "execution_count": 0,
      "outputs": []
    },
    {
      "cell_type": "code",
      "metadata": {
        "id": "TEneBBGCutGv",
        "colab_type": "code",
        "colab": {}
      },
      "source": [
        ""
      ],
      "execution_count": 0,
      "outputs": []
    }
  ]
}