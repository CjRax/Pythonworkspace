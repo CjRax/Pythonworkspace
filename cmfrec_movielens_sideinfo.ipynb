{
  "nbformat": 4,
  "nbformat_minor": 0,
  "metadata": {
    "kernelspec": {
      "name": "python3",
      "display_name": "Python 3"
    },
    "language_info": {
      "codemirror_mode": {
        "name": "ipython",
        "version": 3
      },
      "file_extension": ".py",
      "mimetype": "text/x-python",
      "name": "python",
      "nbconvert_exporter": "python",
      "pygments_lexer": "ipython3",
      "version": "3.7.5"
    },
    "colab": {
      "name": "cmfrec_movielens_sideinfo.ipynb",
      "provenance": [],
      "collapsed_sections": [],
      "include_colab_link": true
    },
    "accelerator": "GPU"
  },
  "cells": [
    {
      "cell_type": "markdown",
      "metadata": {
        "id": "view-in-github",
        "colab_type": "text"
      },
      "source": [
        "<a href=\"https://colab.research.google.com/github/CjRax/Pythonworkspace/blob/master/cmfrec_movielens_sideinfo.ipynb\" target=\"_parent\"><img src=\"https://colab.research.google.com/assets/colab-badge.svg\" alt=\"Open In Colab\"/></a>"
      ]
    },
    {
      "cell_type": "markdown",
      "metadata": {
        "id": "mtXyDiIJ_RmQ",
        "colab_type": "text"
      },
      "source": [
        "# Collaborative filtering with side information\n",
        "\n",
        "** *\n",
        "This IPython notebook illustrates the usage of the [cmfrec](https://github.com/david-cortes/cmfrec) Python package for building recommender systems through different matrix factorization models with or without using information about user and item attributes – for more details see the references at the bottom.\n",
        "\n",
        "The example uses the [MovieLens-1M data](https://grouplens.org/datasets/movielens/1m/) which consists of ratings from users about movies + user demographic information, plus the [movie tag genome](https://grouplens.org/datasets/movielens/latest/). Note however that, for implicit-feedback datasets (e.g. item purchases), it's recommended to use different models than the ones shown here (see [documentation](http://ctpfrec.readthedocs.io/en/latest/) for details about models in the package aimed at implicit-feedback data).\n",
        "\n",
        "**Small note: if the TOC here is not clickable or the math symbols don't show properly, try visualizing this same notebook from nbviewer following [this link](http://nbviewer.jupyter.org/github/david-cortes/cmfrec/blob/master/example/cmfrec_movielens_sideinfo.ipynb).**\n",
        "## Sections\n",
        "\n",
        "\n",
        "[1. Loading the data](#p1)\n",
        "\n",
        "[2. Fitting recommender models](#p2)\n",
        "\n",
        "[3. Examining top-N recommended lists](#p3)\n",
        "\n",
        "[4. Tuning model parameters](#p4)\n",
        "\n",
        "[5. Recommendations for new users](#p5)\n",
        "\n",
        "[6. Evaluating models](#p6)\n",
        "\n",
        "[7. References](#p7)\n",
        "** *"
      ]
    },
    {
      "cell_type": "code",
      "metadata": {
        "id": "Rnb2J-I1Dyrp",
        "colab_type": "code",
        "outputId": "652b84cc-397b-48fe-d302-9e2da718532e",
        "colab": {
          "base_uri": "https://localhost:8080/",
          "height": 122
        }
      },
      "source": [
        "from google.colab import drive\n",
        "drive.mount('/content/gdrive')"
      ],
      "execution_count": 2,
      "outputs": [
        {
          "output_type": "stream",
          "text": [
            "Go to this URL in a browser: https://accounts.google.com/o/oauth2/auth?client_id=947318989803-6bn6qk8qdgf4n4g3pfee6491hc0brc4i.apps.googleusercontent.com&redirect_uri=urn%3aietf%3awg%3aoauth%3a2.0%3aoob&response_type=code&scope=email%20https%3a%2f%2fwww.googleapis.com%2fauth%2fdocs.test%20https%3a%2f%2fwww.googleapis.com%2fauth%2fdrive%20https%3a%2f%2fwww.googleapis.com%2fauth%2fdrive.photos.readonly%20https%3a%2f%2fwww.googleapis.com%2fauth%2fpeopleapi.readonly\n",
            "\n",
            "Enter your authorization code:\n",
            "··········\n",
            "Mounted at /content/gdrive\n"
          ],
          "name": "stdout"
        }
      ]
    },
    {
      "cell_type": "code",
      "metadata": {
        "id": "bK6BXSVWD08T",
        "colab_type": "code",
        "colab": {}
      },
      "source": [
        "import os\n",
        "java8_location= '/usr/lib/jvm/java-8-openjdk-amd64'\n",
        "os.environ['JAVA_HOME'] = java8_location\n",
        "main_location = \"/content/gdrive/My Drive/Colab Notebooks/Collaborative filtering with side information\"\n",
        "os.chdir(main_location)"
      ],
      "execution_count": 0,
      "outputs": []
    },
    {
      "cell_type": "code",
      "metadata": {
        "id": "5TpmG9wtD2WX",
        "colab_type": "code",
        "outputId": "bbbed6f7-82bb-4725-8b87-f845007eb9b3",
        "colab": {
          "base_uri": "https://localhost:8080/",
          "height": 377
        }
      },
      "source": [
        "!pip install cmfrec"
      ],
      "execution_count": 5,
      "outputs": [
        {
          "output_type": "stream",
          "text": [
            "Collecting cmfrec\n",
            "\u001b[?25l  Downloading https://files.pythonhosted.org/packages/e7/84/34892a674d5c35bf99dff6c85c53db30b3eb38b6f230cd0ffe98e5f6f8c7/cmfrec-1.0.0.tar.gz (155kB)\n",
            "\r\u001b[K     |██                              | 10kB 19.1MB/s eta 0:00:01\r\u001b[K     |████▏                           | 20kB 4.9MB/s eta 0:00:01\r\u001b[K     |██████▎                         | 30kB 6.9MB/s eta 0:00:01\r\u001b[K     |████████▍                       | 40kB 8.7MB/s eta 0:00:01\r\u001b[K     |██████████▌                     | 51kB 5.3MB/s eta 0:00:01\r\u001b[K     |████████████▋                   | 61kB 6.0MB/s eta 0:00:01\r\u001b[K     |██████████████▊                 | 71kB 6.5MB/s eta 0:00:01\r\u001b[K     |████████████████▉               | 81kB 6.9MB/s eta 0:00:01\r\u001b[K     |███████████████████             | 92kB 7.6MB/s eta 0:00:01\r\u001b[K     |█████████████████████           | 102kB 7.0MB/s eta 0:00:01\r\u001b[K     |███████████████████████▏        | 112kB 7.0MB/s eta 0:00:01\r\u001b[K     |█████████████████████████▎      | 122kB 7.0MB/s eta 0:00:01\r\u001b[K     |███████████████████████████▍    | 133kB 7.0MB/s eta 0:00:01\r\u001b[K     |█████████████████████████████▌  | 143kB 7.0MB/s eta 0:00:01\r\u001b[K     |███████████████████████████████▋| 153kB 7.0MB/s eta 0:00:01\r\u001b[K     |████████████████████████████████| 163kB 7.0MB/s \n",
            "\u001b[?25h  Installing build dependencies ... \u001b[?25l\u001b[?25hdone\n",
            "  Getting requirements to build wheel ... \u001b[?25l\u001b[?25hdone\n",
            "    Preparing wheel metadata ... \u001b[?25l\u001b[?25hdone\n",
            "Requirement already satisfied: numpy in /usr/local/lib/python3.6/dist-packages (from cmfrec) (1.18.2)\n",
            "Requirement already satisfied: cython in /usr/local/lib/python3.6/dist-packages (from cmfrec) (0.29.15)\n",
            "Processing /root/.cache/pip/wheels/f3/2a/54/a839ba95bc8518ba293d78b4b4ec6257482d845079e2447cae/findblas-0.1.8.1-cp36-none-any.whl\n",
            "Requirement already satisfied: pandas>=0.25.0 in /usr/local/lib/python3.6/dist-packages (from cmfrec) (0.25.3)\n",
            "Requirement already satisfied: pytz>=2017.2 in /usr/local/lib/python3.6/dist-packages (from pandas>=0.25.0->cmfrec) (2018.9)\n",
            "Requirement already satisfied: python-dateutil>=2.6.1 in /usr/local/lib/python3.6/dist-packages (from pandas>=0.25.0->cmfrec) (2.8.1)\n",
            "Requirement already satisfied: six>=1.5 in /usr/local/lib/python3.6/dist-packages (from python-dateutil>=2.6.1->pandas>=0.25.0->cmfrec) (1.12.0)\n",
            "Building wheels for collected packages: cmfrec\n",
            "  Building wheel for cmfrec (PEP 517) ... \u001b[?25l\u001b[?25hdone\n",
            "  Created wheel for cmfrec: filename=cmfrec-1.0.0-cp36-cp36m-linux_x86_64.whl size=2932150 sha256=caa41c44e6f5e3e2fc0a1bd847c5c7a3d4f128dbedd71a6b921eae9257e62bd0\n",
            "  Stored in directory: /root/.cache/pip/wheels/25/ec/05/8a323008953b5708a0be0e023f55b8a7cd448c51a13d7bdf1e\n",
            "Successfully built cmfrec\n",
            "Installing collected packages: findblas, cmfrec\n",
            "Successfully installed cmfrec-1.0.0 findblas-0.1.8.1\n"
          ],
          "name": "stdout"
        }
      ]
    },
    {
      "cell_type": "markdown",
      "metadata": {
        "id": "v8R7Lk2a_RmT",
        "colab_type": "text"
      },
      "source": [
        "<a id=\"p1\"></a>\n",
        "## 1. Loading the data\n",
        "\n",
        "This section uses pre-processed data from the MovieLens datasets joined with external zip codes databases. The script for  processing and cleaning the data can be found in another notebook [here](http://nbviewer.jupyter.org/github/david-cortes/cmfrec/blob/master/example/load_data.ipynb)."
      ]
    },
    {
      "cell_type": "code",
      "metadata": {
        "id": "cr41Tb4y_RmU",
        "colab_type": "code",
        "colab": {}
      },
      "source": [
        "import numpy as np, pandas as pd, pickle\n",
        "\n",
        "ratings = pickle.load(open(\"ratings.p\", \"rb\"))\n",
        "item_sideinfo_pca = pickle.load(open(\"item_sideinfo_pca.p\", \"rb\"))\n",
        "user_side_info = pickle.load(open(\"user_side_info.p\", \"rb\"))\n",
        "movie_id_to_title = pickle.load(open(\"movie_id_to_title.p\", \"rb\"))"
      ],
      "execution_count": 0,
      "outputs": []
    },
    {
      "cell_type": "markdown",
      "metadata": {
        "id": "O_FlWxup_RmY",
        "colab_type": "text"
      },
      "source": [
        "### Ratings data"
      ]
    },
    {
      "cell_type": "code",
      "metadata": {
        "id": "xE08XUU__Rmc",
        "colab_type": "code",
        "outputId": "c4489ece-5c3d-4558-c011-bca8602b991c",
        "colab": {
          "base_uri": "https://localhost:8080/",
          "height": 204
        }
      },
      "source": [
        "ratings.head()"
      ],
      "execution_count": 7,
      "outputs": [
        {
          "output_type": "execute_result",
          "data": {
            "text/html": [
              "<div>\n",
              "<style scoped>\n",
              "    .dataframe tbody tr th:only-of-type {\n",
              "        vertical-align: middle;\n",
              "    }\n",
              "\n",
              "    .dataframe tbody tr th {\n",
              "        vertical-align: top;\n",
              "    }\n",
              "\n",
              "    .dataframe thead th {\n",
              "        text-align: right;\n",
              "    }\n",
              "</style>\n",
              "<table border=\"1\" class=\"dataframe\">\n",
              "  <thead>\n",
              "    <tr style=\"text-align: right;\">\n",
              "      <th></th>\n",
              "      <th>UserId</th>\n",
              "      <th>ItemId</th>\n",
              "      <th>Rating</th>\n",
              "    </tr>\n",
              "  </thead>\n",
              "  <tbody>\n",
              "    <tr>\n",
              "      <th>0</th>\n",
              "      <td>1</td>\n",
              "      <td>1193</td>\n",
              "      <td>5</td>\n",
              "    </tr>\n",
              "    <tr>\n",
              "      <th>1</th>\n",
              "      <td>1</td>\n",
              "      <td>661</td>\n",
              "      <td>3</td>\n",
              "    </tr>\n",
              "    <tr>\n",
              "      <th>2</th>\n",
              "      <td>1</td>\n",
              "      <td>914</td>\n",
              "      <td>3</td>\n",
              "    </tr>\n",
              "    <tr>\n",
              "      <th>3</th>\n",
              "      <td>1</td>\n",
              "      <td>3408</td>\n",
              "      <td>4</td>\n",
              "    </tr>\n",
              "    <tr>\n",
              "      <th>4</th>\n",
              "      <td>1</td>\n",
              "      <td>2355</td>\n",
              "      <td>5</td>\n",
              "    </tr>\n",
              "  </tbody>\n",
              "</table>\n",
              "</div>"
            ],
            "text/plain": [
              "   UserId  ItemId  Rating\n",
              "0       1    1193       5\n",
              "1       1     661       3\n",
              "2       1     914       3\n",
              "3       1    3408       4\n",
              "4       1    2355       5"
            ]
          },
          "metadata": {
            "tags": []
          },
          "execution_count": 7
        }
      ]
    },
    {
      "cell_type": "markdown",
      "metadata": {
        "id": "Lr_P_I9l_Rmg",
        "colab_type": "text"
      },
      "source": [
        "### Item attributes (reduced through PCA)"
      ]
    },
    {
      "cell_type": "code",
      "metadata": {
        "id": "7EUSmosW_Rmh",
        "colab_type": "code",
        "outputId": "5657f74e-0a0f-4b71-8ee7-4feff2a6de0d",
        "colab": {
          "base_uri": "https://localhost:8080/",
          "height": 224
        }
      },
      "source": [
        "item_sideinfo_pca.head()"
      ],
      "execution_count": 8,
      "outputs": [
        {
          "output_type": "execute_result",
          "data": {
            "text/html": [
              "<div>\n",
              "<style scoped>\n",
              "    .dataframe tbody tr th:only-of-type {\n",
              "        vertical-align: middle;\n",
              "    }\n",
              "\n",
              "    .dataframe tbody tr th {\n",
              "        vertical-align: top;\n",
              "    }\n",
              "\n",
              "    .dataframe thead th {\n",
              "        text-align: right;\n",
              "    }\n",
              "</style>\n",
              "<table border=\"1\" class=\"dataframe\">\n",
              "  <thead>\n",
              "    <tr style=\"text-align: right;\">\n",
              "      <th></th>\n",
              "      <th>ItemId</th>\n",
              "      <th>pc0</th>\n",
              "      <th>pc1</th>\n",
              "      <th>pc2</th>\n",
              "      <th>pc3</th>\n",
              "      <th>pc4</th>\n",
              "      <th>pc5</th>\n",
              "      <th>pc6</th>\n",
              "      <th>pc7</th>\n",
              "      <th>pc8</th>\n",
              "      <th>pc9</th>\n",
              "      <th>pc10</th>\n",
              "      <th>pc11</th>\n",
              "      <th>pc12</th>\n",
              "      <th>pc13</th>\n",
              "      <th>pc14</th>\n",
              "      <th>pc15</th>\n",
              "      <th>pc16</th>\n",
              "      <th>pc17</th>\n",
              "      <th>pc18</th>\n",
              "      <th>pc19</th>\n",
              "      <th>pc20</th>\n",
              "      <th>pc21</th>\n",
              "      <th>pc22</th>\n",
              "      <th>pc23</th>\n",
              "      <th>pc24</th>\n",
              "      <th>pc25</th>\n",
              "      <th>pc26</th>\n",
              "      <th>pc27</th>\n",
              "      <th>pc28</th>\n",
              "      <th>pc29</th>\n",
              "      <th>pc30</th>\n",
              "      <th>pc31</th>\n",
              "      <th>pc32</th>\n",
              "      <th>pc33</th>\n",
              "      <th>pc34</th>\n",
              "      <th>pc35</th>\n",
              "      <th>pc36</th>\n",
              "      <th>pc37</th>\n",
              "      <th>pc38</th>\n",
              "      <th>pc39</th>\n",
              "      <th>pc40</th>\n",
              "      <th>pc41</th>\n",
              "      <th>pc42</th>\n",
              "      <th>pc43</th>\n",
              "      <th>pc44</th>\n",
              "      <th>pc45</th>\n",
              "      <th>pc46</th>\n",
              "      <th>pc47</th>\n",
              "      <th>pc48</th>\n",
              "      <th>pc49</th>\n",
              "    </tr>\n",
              "  </thead>\n",
              "  <tbody>\n",
              "    <tr>\n",
              "      <th>0</th>\n",
              "      <td>1</td>\n",
              "      <td>1.192433</td>\n",
              "      <td>2.034965</td>\n",
              "      <td>2.679781</td>\n",
              "      <td>1.154823</td>\n",
              "      <td>0.715302</td>\n",
              "      <td>0.982528</td>\n",
              "      <td>1.251208</td>\n",
              "      <td>-0.792800</td>\n",
              "      <td>1.605826</td>\n",
              "      <td>-0.737271</td>\n",
              "      <td>-0.183611</td>\n",
              "      <td>0.284967</td>\n",
              "      <td>-0.904565</td>\n",
              "      <td>-0.518614</td>\n",
              "      <td>0.089596</td>\n",
              "      <td>0.651764</td>\n",
              "      <td>0.679378</td>\n",
              "      <td>0.728897</td>\n",
              "      <td>-0.009248</td>\n",
              "      <td>-0.165799</td>\n",
              "      <td>0.067822</td>\n",
              "      <td>0.216426</td>\n",
              "      <td>-0.010873</td>\n",
              "      <td>0.279555</td>\n",
              "      <td>0.772343</td>\n",
              "      <td>-0.165439</td>\n",
              "      <td>-0.340126</td>\n",
              "      <td>0.313842</td>\n",
              "      <td>-0.430782</td>\n",
              "      <td>0.038745</td>\n",
              "      <td>-0.260901</td>\n",
              "      <td>-0.020728</td>\n",
              "      <td>0.107546</td>\n",
              "      <td>-0.192297</td>\n",
              "      <td>-0.032513</td>\n",
              "      <td>-0.296049</td>\n",
              "      <td>0.349338</td>\n",
              "      <td>-0.065485</td>\n",
              "      <td>-0.237691</td>\n",
              "      <td>-0.276438</td>\n",
              "      <td>-0.310903</td>\n",
              "      <td>-0.086192</td>\n",
              "      <td>-0.022227</td>\n",
              "      <td>-0.225551</td>\n",
              "      <td>0.208888</td>\n",
              "      <td>0.053772</td>\n",
              "      <td>-0.235847</td>\n",
              "      <td>-0.218742</td>\n",
              "      <td>-0.044116</td>\n",
              "      <td>-0.159722</td>\n",
              "    </tr>\n",
              "    <tr>\n",
              "      <th>1</th>\n",
              "      <td>2</td>\n",
              "      <td>-1.333200</td>\n",
              "      <td>1.719346</td>\n",
              "      <td>1.383137</td>\n",
              "      <td>0.788332</td>\n",
              "      <td>-0.487431</td>\n",
              "      <td>0.376546</td>\n",
              "      <td>0.803104</td>\n",
              "      <td>-0.606602</td>\n",
              "      <td>0.914494</td>\n",
              "      <td>-0.430699</td>\n",
              "      <td>-0.404877</td>\n",
              "      <td>0.347346</td>\n",
              "      <td>-0.157892</td>\n",
              "      <td>-0.509014</td>\n",
              "      <td>0.518503</td>\n",
              "      <td>-0.374896</td>\n",
              "      <td>0.229185</td>\n",
              "      <td>0.147371</td>\n",
              "      <td>-0.269713</td>\n",
              "      <td>0.721060</td>\n",
              "      <td>-0.393251</td>\n",
              "      <td>-0.173606</td>\n",
              "      <td>-0.451843</td>\n",
              "      <td>-0.337946</td>\n",
              "      <td>0.202661</td>\n",
              "      <td>-0.132015</td>\n",
              "      <td>-0.269896</td>\n",
              "      <td>-0.125917</td>\n",
              "      <td>-0.309087</td>\n",
              "      <td>-0.675771</td>\n",
              "      <td>0.054510</td>\n",
              "      <td>-0.439607</td>\n",
              "      <td>-0.005626</td>\n",
              "      <td>-0.224508</td>\n",
              "      <td>0.177771</td>\n",
              "      <td>-0.088804</td>\n",
              "      <td>-0.165457</td>\n",
              "      <td>0.091724</td>\n",
              "      <td>0.290934</td>\n",
              "      <td>-0.103507</td>\n",
              "      <td>0.275732</td>\n",
              "      <td>-0.295407</td>\n",
              "      <td>0.049265</td>\n",
              "      <td>-0.033086</td>\n",
              "      <td>0.295205</td>\n",
              "      <td>0.353795</td>\n",
              "      <td>0.271795</td>\n",
              "      <td>0.152945</td>\n",
              "      <td>0.118240</td>\n",
              "      <td>0.049958</td>\n",
              "    </tr>\n",
              "    <tr>\n",
              "      <th>2</th>\n",
              "      <td>3</td>\n",
              "      <td>-1.363421</td>\n",
              "      <td>-0.034093</td>\n",
              "      <td>0.528633</td>\n",
              "      <td>-0.312122</td>\n",
              "      <td>0.468820</td>\n",
              "      <td>0.164593</td>\n",
              "      <td>0.021909</td>\n",
              "      <td>0.161554</td>\n",
              "      <td>-0.231992</td>\n",
              "      <td>0.067063</td>\n",
              "      <td>0.070401</td>\n",
              "      <td>-0.545160</td>\n",
              "      <td>-0.236044</td>\n",
              "      <td>0.388355</td>\n",
              "      <td>0.191815</td>\n",
              "      <td>0.126100</td>\n",
              "      <td>0.237735</td>\n",
              "      <td>0.403455</td>\n",
              "      <td>-0.237825</td>\n",
              "      <td>0.004958</td>\n",
              "      <td>0.797680</td>\n",
              "      <td>0.296292</td>\n",
              "      <td>-0.446395</td>\n",
              "      <td>0.235011</td>\n",
              "      <td>-0.300256</td>\n",
              "      <td>0.081383</td>\n",
              "      <td>0.611506</td>\n",
              "      <td>0.157810</td>\n",
              "      <td>0.246292</td>\n",
              "      <td>-0.297811</td>\n",
              "      <td>-0.279625</td>\n",
              "      <td>0.029209</td>\n",
              "      <td>0.310131</td>\n",
              "      <td>0.331211</td>\n",
              "      <td>-0.295085</td>\n",
              "      <td>0.181023</td>\n",
              "      <td>-0.008465</td>\n",
              "      <td>0.058480</td>\n",
              "      <td>0.015182</td>\n",
              "      <td>-0.079272</td>\n",
              "      <td>0.214418</td>\n",
              "      <td>-0.096803</td>\n",
              "      <td>-0.279147</td>\n",
              "      <td>-0.042245</td>\n",
              "      <td>0.064378</td>\n",
              "      <td>0.239892</td>\n",
              "      <td>-0.169373</td>\n",
              "      <td>-0.097961</td>\n",
              "      <td>0.164606</td>\n",
              "      <td>-0.135193</td>\n",
              "    </tr>\n",
              "    <tr>\n",
              "      <th>3</th>\n",
              "      <td>4</td>\n",
              "      <td>-1.238094</td>\n",
              "      <td>-1.014399</td>\n",
              "      <td>0.790394</td>\n",
              "      <td>-0.296004</td>\n",
              "      <td>-0.095043</td>\n",
              "      <td>-0.052266</td>\n",
              "      <td>-0.180244</td>\n",
              "      <td>-0.768811</td>\n",
              "      <td>-0.400559</td>\n",
              "      <td>0.170457</td>\n",
              "      <td>0.144012</td>\n",
              "      <td>-0.260407</td>\n",
              "      <td>-0.190370</td>\n",
              "      <td>-0.442000</td>\n",
              "      <td>0.131109</td>\n",
              "      <td>0.141005</td>\n",
              "      <td>-0.405538</td>\n",
              "      <td>-0.453870</td>\n",
              "      <td>-0.316645</td>\n",
              "      <td>0.013256</td>\n",
              "      <td>0.335646</td>\n",
              "      <td>0.061231</td>\n",
              "      <td>0.118042</td>\n",
              "      <td>-0.011508</td>\n",
              "      <td>-0.123344</td>\n",
              "      <td>-0.144591</td>\n",
              "      <td>0.158255</td>\n",
              "      <td>0.000388</td>\n",
              "      <td>-0.055361</td>\n",
              "      <td>-0.076103</td>\n",
              "      <td>-0.155165</td>\n",
              "      <td>0.156729</td>\n",
              "      <td>0.001212</td>\n",
              "      <td>-0.052611</td>\n",
              "      <td>0.046802</td>\n",
              "      <td>-0.093289</td>\n",
              "      <td>0.187653</td>\n",
              "      <td>-0.202027</td>\n",
              "      <td>0.044542</td>\n",
              "      <td>-0.063037</td>\n",
              "      <td>0.073693</td>\n",
              "      <td>0.040068</td>\n",
              "      <td>-0.222469</td>\n",
              "      <td>-0.447134</td>\n",
              "      <td>0.262161</td>\n",
              "      <td>-0.346505</td>\n",
              "      <td>-0.197113</td>\n",
              "      <td>-0.206347</td>\n",
              "      <td>0.456150</td>\n",
              "      <td>0.442459</td>\n",
              "    </tr>\n",
              "    <tr>\n",
              "      <th>4</th>\n",
              "      <td>5</td>\n",
              "      <td>-1.613220</td>\n",
              "      <td>-0.280142</td>\n",
              "      <td>1.119149</td>\n",
              "      <td>-0.130238</td>\n",
              "      <td>0.397091</td>\n",
              "      <td>0.187158</td>\n",
              "      <td>0.108864</td>\n",
              "      <td>-0.273748</td>\n",
              "      <td>-0.260166</td>\n",
              "      <td>-0.336405</td>\n",
              "      <td>0.135059</td>\n",
              "      <td>-0.848177</td>\n",
              "      <td>-0.483407</td>\n",
              "      <td>0.267419</td>\n",
              "      <td>0.604689</td>\n",
              "      <td>0.298647</td>\n",
              "      <td>0.347358</td>\n",
              "      <td>0.345831</td>\n",
              "      <td>-0.172015</td>\n",
              "      <td>-0.034484</td>\n",
              "      <td>0.447468</td>\n",
              "      <td>0.231412</td>\n",
              "      <td>-0.169929</td>\n",
              "      <td>-0.023544</td>\n",
              "      <td>-0.911886</td>\n",
              "      <td>0.267502</td>\n",
              "      <td>0.332914</td>\n",
              "      <td>0.227506</td>\n",
              "      <td>0.400202</td>\n",
              "      <td>-0.709007</td>\n",
              "      <td>-0.372312</td>\n",
              "      <td>0.084479</td>\n",
              "      <td>0.375738</td>\n",
              "      <td>0.267540</td>\n",
              "      <td>-0.175196</td>\n",
              "      <td>0.110716</td>\n",
              "      <td>0.037989</td>\n",
              "      <td>-0.065917</td>\n",
              "      <td>0.187277</td>\n",
              "      <td>-0.249537</td>\n",
              "      <td>0.115972</td>\n",
              "      <td>-0.114713</td>\n",
              "      <td>-0.210003</td>\n",
              "      <td>-0.474771</td>\n",
              "      <td>-0.030351</td>\n",
              "      <td>0.121522</td>\n",
              "      <td>-0.225187</td>\n",
              "      <td>-0.289037</td>\n",
              "      <td>0.055255</td>\n",
              "      <td>0.047612</td>\n",
              "    </tr>\n",
              "  </tbody>\n",
              "</table>\n",
              "</div>"
            ],
            "text/plain": [
              "   ItemId       pc0       pc1       pc2  ...      pc46      pc47      pc48      pc49\n",
              "0       1  1.192433  2.034965  2.679781  ... -0.235847 -0.218742 -0.044116 -0.159722\n",
              "1       2 -1.333200  1.719346  1.383137  ...  0.271795  0.152945  0.118240  0.049958\n",
              "2       3 -1.363421 -0.034093  0.528633  ... -0.169373 -0.097961  0.164606 -0.135193\n",
              "3       4 -1.238094 -1.014399  0.790394  ... -0.197113 -0.206347  0.456150  0.442459\n",
              "4       5 -1.613220 -0.280142  1.119149  ... -0.225187 -0.289037  0.055255  0.047612\n",
              "\n",
              "[5 rows x 51 columns]"
            ]
          },
          "metadata": {
            "tags": []
          },
          "execution_count": 8
        }
      ]
    },
    {
      "cell_type": "markdown",
      "metadata": {
        "id": "2XeDgT6u_Rmm",
        "colab_type": "text"
      },
      "source": [
        "### User attributes (one-hot encoded)"
      ]
    },
    {
      "cell_type": "code",
      "metadata": {
        "id": "zUuLnFfM_Rmn",
        "colab_type": "code",
        "outputId": "19d8445b-6609-456d-a0bf-0ec80c7f6f0e",
        "colab": {
          "base_uri": "https://localhost:8080/",
          "height": 241
        }
      },
      "source": [
        "user_side_info.head()"
      ],
      "execution_count": 9,
      "outputs": [
        {
          "output_type": "execute_result",
          "data": {
            "text/html": [
              "<div>\n",
              "<style scoped>\n",
              "    .dataframe tbody tr th:only-of-type {\n",
              "        vertical-align: middle;\n",
              "    }\n",
              "\n",
              "    .dataframe tbody tr th {\n",
              "        vertical-align: top;\n",
              "    }\n",
              "\n",
              "    .dataframe thead th {\n",
              "        text-align: right;\n",
              "    }\n",
              "</style>\n",
              "<table border=\"1\" class=\"dataframe\">\n",
              "  <thead>\n",
              "    <tr style=\"text-align: right;\">\n",
              "      <th></th>\n",
              "      <th>UserId</th>\n",
              "      <th>Gender_F</th>\n",
              "      <th>Gender_M</th>\n",
              "      <th>Age_1</th>\n",
              "      <th>Age_18</th>\n",
              "      <th>Age_25</th>\n",
              "      <th>Age_35</th>\n",
              "      <th>Age_45</th>\n",
              "      <th>Age_50</th>\n",
              "      <th>Age_56</th>\n",
              "      <th>Occupation_\"other\" or not specified</th>\n",
              "      <th>Occupation_K-12 student</th>\n",
              "      <th>Occupation_academic/educator</th>\n",
              "      <th>Occupation_artist</th>\n",
              "      <th>Occupation_clerical/admin</th>\n",
              "      <th>Occupation_college/grad student</th>\n",
              "      <th>Occupation_customer service</th>\n",
              "      <th>Occupation_doctor/health care</th>\n",
              "      <th>Occupation_executive/managerial</th>\n",
              "      <th>Occupation_farmer</th>\n",
              "      <th>Occupation_homemaker</th>\n",
              "      <th>Occupation_lawyer</th>\n",
              "      <th>Occupation_programmer</th>\n",
              "      <th>Occupation_retired</th>\n",
              "      <th>Occupation_sales/marketing</th>\n",
              "      <th>Occupation_scientist</th>\n",
              "      <th>Occupation_self-employed</th>\n",
              "      <th>Occupation_technician/engineer</th>\n",
              "      <th>Occupation_tradesman/craftsman</th>\n",
              "      <th>Occupation_unemployed</th>\n",
              "      <th>Occupation_writer</th>\n",
              "      <th>Region_Middle Atlantic</th>\n",
              "      <th>Region_Midwest</th>\n",
              "      <th>Region_New England</th>\n",
              "      <th>Region_South</th>\n",
              "      <th>Region_Southwest</th>\n",
              "      <th>Region_UnknownOrNonUS</th>\n",
              "      <th>Region_UsOther</th>\n",
              "      <th>Region_West</th>\n",
              "    </tr>\n",
              "  </thead>\n",
              "  <tbody>\n",
              "    <tr>\n",
              "      <th>0</th>\n",
              "      <td>1</td>\n",
              "      <td>1</td>\n",
              "      <td>0</td>\n",
              "      <td>1</td>\n",
              "      <td>0</td>\n",
              "      <td>0</td>\n",
              "      <td>0</td>\n",
              "      <td>0</td>\n",
              "      <td>0</td>\n",
              "      <td>0</td>\n",
              "      <td>0</td>\n",
              "      <td>1</td>\n",
              "      <td>0</td>\n",
              "      <td>0</td>\n",
              "      <td>0</td>\n",
              "      <td>0</td>\n",
              "      <td>0</td>\n",
              "      <td>0</td>\n",
              "      <td>0</td>\n",
              "      <td>0</td>\n",
              "      <td>0</td>\n",
              "      <td>0</td>\n",
              "      <td>0</td>\n",
              "      <td>0</td>\n",
              "      <td>0</td>\n",
              "      <td>0</td>\n",
              "      <td>0</td>\n",
              "      <td>0</td>\n",
              "      <td>0</td>\n",
              "      <td>0</td>\n",
              "      <td>0</td>\n",
              "      <td>0</td>\n",
              "      <td>1</td>\n",
              "      <td>0</td>\n",
              "      <td>0</td>\n",
              "      <td>0</td>\n",
              "      <td>0</td>\n",
              "      <td>0</td>\n",
              "      <td>0</td>\n",
              "    </tr>\n",
              "    <tr>\n",
              "      <th>1</th>\n",
              "      <td>2</td>\n",
              "      <td>0</td>\n",
              "      <td>1</td>\n",
              "      <td>0</td>\n",
              "      <td>0</td>\n",
              "      <td>0</td>\n",
              "      <td>0</td>\n",
              "      <td>0</td>\n",
              "      <td>0</td>\n",
              "      <td>1</td>\n",
              "      <td>0</td>\n",
              "      <td>0</td>\n",
              "      <td>0</td>\n",
              "      <td>0</td>\n",
              "      <td>0</td>\n",
              "      <td>0</td>\n",
              "      <td>0</td>\n",
              "      <td>0</td>\n",
              "      <td>0</td>\n",
              "      <td>0</td>\n",
              "      <td>0</td>\n",
              "      <td>0</td>\n",
              "      <td>0</td>\n",
              "      <td>0</td>\n",
              "      <td>0</td>\n",
              "      <td>0</td>\n",
              "      <td>1</td>\n",
              "      <td>0</td>\n",
              "      <td>0</td>\n",
              "      <td>0</td>\n",
              "      <td>0</td>\n",
              "      <td>0</td>\n",
              "      <td>0</td>\n",
              "      <td>0</td>\n",
              "      <td>1</td>\n",
              "      <td>0</td>\n",
              "      <td>0</td>\n",
              "      <td>0</td>\n",
              "      <td>0</td>\n",
              "    </tr>\n",
              "    <tr>\n",
              "      <th>2</th>\n",
              "      <td>3</td>\n",
              "      <td>0</td>\n",
              "      <td>1</td>\n",
              "      <td>0</td>\n",
              "      <td>0</td>\n",
              "      <td>1</td>\n",
              "      <td>0</td>\n",
              "      <td>0</td>\n",
              "      <td>0</td>\n",
              "      <td>0</td>\n",
              "      <td>0</td>\n",
              "      <td>0</td>\n",
              "      <td>0</td>\n",
              "      <td>0</td>\n",
              "      <td>0</td>\n",
              "      <td>0</td>\n",
              "      <td>0</td>\n",
              "      <td>0</td>\n",
              "      <td>0</td>\n",
              "      <td>0</td>\n",
              "      <td>0</td>\n",
              "      <td>0</td>\n",
              "      <td>0</td>\n",
              "      <td>0</td>\n",
              "      <td>0</td>\n",
              "      <td>1</td>\n",
              "      <td>0</td>\n",
              "      <td>0</td>\n",
              "      <td>0</td>\n",
              "      <td>0</td>\n",
              "      <td>0</td>\n",
              "      <td>0</td>\n",
              "      <td>1</td>\n",
              "      <td>0</td>\n",
              "      <td>0</td>\n",
              "      <td>0</td>\n",
              "      <td>0</td>\n",
              "      <td>0</td>\n",
              "      <td>0</td>\n",
              "    </tr>\n",
              "    <tr>\n",
              "      <th>3</th>\n",
              "      <td>4</td>\n",
              "      <td>0</td>\n",
              "      <td>1</td>\n",
              "      <td>0</td>\n",
              "      <td>0</td>\n",
              "      <td>0</td>\n",
              "      <td>0</td>\n",
              "      <td>1</td>\n",
              "      <td>0</td>\n",
              "      <td>0</td>\n",
              "      <td>0</td>\n",
              "      <td>0</td>\n",
              "      <td>0</td>\n",
              "      <td>0</td>\n",
              "      <td>0</td>\n",
              "      <td>0</td>\n",
              "      <td>0</td>\n",
              "      <td>0</td>\n",
              "      <td>1</td>\n",
              "      <td>0</td>\n",
              "      <td>0</td>\n",
              "      <td>0</td>\n",
              "      <td>0</td>\n",
              "      <td>0</td>\n",
              "      <td>0</td>\n",
              "      <td>0</td>\n",
              "      <td>0</td>\n",
              "      <td>0</td>\n",
              "      <td>0</td>\n",
              "      <td>0</td>\n",
              "      <td>0</td>\n",
              "      <td>0</td>\n",
              "      <td>0</td>\n",
              "      <td>1</td>\n",
              "      <td>0</td>\n",
              "      <td>0</td>\n",
              "      <td>0</td>\n",
              "      <td>0</td>\n",
              "      <td>0</td>\n",
              "    </tr>\n",
              "    <tr>\n",
              "      <th>4</th>\n",
              "      <td>5</td>\n",
              "      <td>0</td>\n",
              "      <td>1</td>\n",
              "      <td>0</td>\n",
              "      <td>0</td>\n",
              "      <td>1</td>\n",
              "      <td>0</td>\n",
              "      <td>0</td>\n",
              "      <td>0</td>\n",
              "      <td>0</td>\n",
              "      <td>0</td>\n",
              "      <td>0</td>\n",
              "      <td>0</td>\n",
              "      <td>0</td>\n",
              "      <td>0</td>\n",
              "      <td>0</td>\n",
              "      <td>0</td>\n",
              "      <td>0</td>\n",
              "      <td>0</td>\n",
              "      <td>0</td>\n",
              "      <td>0</td>\n",
              "      <td>0</td>\n",
              "      <td>0</td>\n",
              "      <td>0</td>\n",
              "      <td>0</td>\n",
              "      <td>0</td>\n",
              "      <td>0</td>\n",
              "      <td>0</td>\n",
              "      <td>0</td>\n",
              "      <td>0</td>\n",
              "      <td>1</td>\n",
              "      <td>0</td>\n",
              "      <td>1</td>\n",
              "      <td>0</td>\n",
              "      <td>0</td>\n",
              "      <td>0</td>\n",
              "      <td>0</td>\n",
              "      <td>0</td>\n",
              "      <td>0</td>\n",
              "    </tr>\n",
              "  </tbody>\n",
              "</table>\n",
              "</div>"
            ],
            "text/plain": [
              "   UserId  Gender_F  ...  Region_UsOther  Region_West\n",
              "0       1         1  ...               0            0\n",
              "1       2         0  ...               0            0\n",
              "2       3         0  ...               0            0\n",
              "3       4         0  ...               0            0\n",
              "4       5         0  ...               0            0\n",
              "\n",
              "[5 rows x 39 columns]"
            ]
          },
          "metadata": {
            "tags": []
          },
          "execution_count": 9
        }
      ]
    },
    {
      "cell_type": "markdown",
      "metadata": {
        "id": "D1jpSb8u_Rmt",
        "colab_type": "text"
      },
      "source": [
        "<a id=\"p2\"></a>\n",
        "## 2. Fitting recommender models\n",
        "\n",
        "This section fits different recommendation models and then compares the recommendations produced by them."
      ]
    },
    {
      "cell_type": "markdown",
      "metadata": {
        "id": "xllGTlI7_Rmu",
        "colab_type": "text"
      },
      "source": [
        "### 2.1 Cassic model\n",
        "\n",
        "Usual low-rank matrix factorization model with no user/item attributes:\n",
        "$$\n",
        "\\mathbf{X} \\approx \\mathbf{A} \\mathbf{B}^T + \\mu + \\mathbf{b}_A + \\mathbf{b}_B\n",
        "$$\n",
        "Where\n",
        "* $\\mathbf{X}$ is the ratings matrix, in which users are rows, items are columns, and the entries denote the ratings.\n",
        "* $\\mathbf{A}$ is the user-factors matrix.\n",
        "* $\\mathbf{B}$ is the item-factors matrix.\n",
        "* $\\mu$ is the average rating.\n",
        "* $\\mathbf{b}_A$ are user-specific biases (row vector).\n",
        "* $\\mathbf{b}_B$ are item-specific biases (column vector).\n",
        "\n",
        "(For more details see references at the bottom)"
      ]
    },
    {
      "cell_type": "code",
      "metadata": {
        "id": "TlgLyaUY_Rmv",
        "colab_type": "code",
        "outputId": "66dd07c0-e0b3-4362-f8e1-04b8fdc384d3",
        "colab": {
          "base_uri": "https://localhost:8080/",
          "height": 51
        }
      },
      "source": [
        "%%time\n",
        "from cmfrec import CMF_explicit\n",
        "\n",
        "model_no_sideinfo = CMF_explicit(method=\"als\", k=40, lambda_=1e+1)\n",
        "model_no_sideinfo.fit(ratings)"
      ],
      "execution_count": 10,
      "outputs": [
        {
          "output_type": "stream",
          "text": [
            "CPU times: user 16.8 s, sys: 32.6 ms, total: 16.9 s\n",
            "Wall time: 9.11 s\n"
          ],
          "name": "stdout"
        }
      ]
    },
    {
      "cell_type": "markdown",
      "metadata": {
        "id": "1TzOme9z_Rmz",
        "colab_type": "text"
      },
      "source": [
        "### 2.2 Collective model\n",
        "\n",
        "The collective matrix factorization model extends the earlier model by making the user and item factor matrices also be able to make low-rank approximate factorizations of the user and item attributes:\n",
        "$$\n",
        "\\mathbf{X} \\approx \\mathbf{A} \\mathbf{B}^T + \\mu + \\mathbf{b}_A + \\mathbf{b}_B\n",
        ",\\:\\:\\:\\:\n",
        "\\mathbf{U} \\approx \\mathbf{A} \\mathbf{C}^T + \\mathbf{\\mu}_U\n",
        ",\\:\\:\\:\\: \\mathbf{I} \\approx \\mathbf{B} \\mathbf{D}^T + \\mathbf{\\mu}_I\n",
        "$$\n",
        "\n",
        "Where\n",
        "* $\\mathbf{U}$ is the user attributes matrix, in which users are rows and attributes are columns.\n",
        "* $\\mathbf{I}$ is the item attributes matrix, in which items are rows and attributes are columns.\n",
        "* $\\mathbf{\\mu}_U$ are the column means for the user attributes (column vector).\n",
        "* $\\mathbf{\\mu}_I$ are the columns means for the item attributes (column vector).\n",
        "* $\\mathbf{C}$ and $\\mathbf{D}$ are attribute-factor matrices (also model parameters).\n",
        "\n",
        "**In addition**, this package can also apply sigmoid transformations on the attribute columns which are binary. Note that this requires a different optimization approach which is slower than the ALS (alternating least-squares) method used here."
      ]
    },
    {
      "cell_type": "code",
      "metadata": {
        "id": "OgGu10NnVnaR",
        "colab_type": "code",
        "colab": {
          "base_uri": "https://localhost:8080/",
          "height": 51
        },
        "outputId": "9974912a-cc2b-45d4-effa-466dad5f746c"
      },
      "source": [
        "%%time\n",
        "model_with_sideinfo = CMF_explicit(method=\"als\", k=40, lambda_=1e+1, w_main=0.5, w_user=0.25, w_item=0.25)\n",
        "model_with_sideinfo.fit(X=ratings, U=user_side_info, I=item_sideinfo_pca)\n",
        "\n",
        "### for the sigmoid transformations:\n",
        "# model_with_sideinfo = CMF_explicit(method=\"lbfgs\", maxiter=0, k=40, lambda_=1e+1, w_main=0.5, w_user=0.25, w_item=0.25)\n",
        "# model_with_sideinfo.fit(X=ratings, U_bin=user_side_info, I=item_sideinfo_pca)"
      ],
      "execution_count": 11,
      "outputs": [
        {
          "output_type": "stream",
          "text": [
            "CPU times: user 19 s, sys: 48.6 ms, total: 19 s\n",
            "Wall time: 9.92 s\n"
          ],
          "name": "stdout"
        }
      ]
    },
    {
      "cell_type": "markdown",
      "metadata": {
        "id": "bjgbCx4h_Rm3",
        "colab_type": "text"
      },
      "source": [
        "_(Note that, since the side info has variables in a different scale, even though the weights sum up to 1, it's still not the same as the earlier model w.r.t. the regularization parameter - this type of model requires more hyperparameter tuning too.)_"
      ]
    },
    {
      "cell_type": "markdown",
      "metadata": {
        "id": "od4EFIqW_Rm4",
        "colab_type": "text"
      },
      "source": [
        "### 2.3 Content-based model\n",
        "\n",
        "This is a model in which the factorizing matrices are constrained to be linear combinations of the user and item attributes, thereby making the recommendations based entirely on side information, with no free parameters for specific users or items:\n",
        "$$\n",
        "\\mathbf{X} \\approx (\\mathbf{U} \\mathbf{C}) (\\mathbf{I} \\mathbf{D})^T + \\mu\n",
        "$$\n",
        "\n",
        "_(Note that the movie attributes are not available for all the movies with ratings)_"
      ]
    },
    {
      "cell_type": "code",
      "metadata": {
        "id": "xKB1xCL5_Rm4",
        "colab_type": "code",
        "outputId": "1124a806-14ed-4a55-f431-88ca82dcf65e",
        "colab": {}
      },
      "source": [
        "%%time\n",
        "from cmfrec import ContentBased\n",
        "\n",
        "model_content_based = ContentBased(k=40, maxiter=0, user_bias=False, item_bias=False)\n",
        "model_content_based.fit(X=ratings.loc[ratings.ItemId.isin(item_sideinfo_pca.ItemId)],\n",
        "                        U=user_side_info,\n",
        "                        I=item_sideinfo_pca.loc[item_sideinfo_pca.ItemId.isin(ratings.ItemId)])"
      ],
      "execution_count": 0,
      "outputs": [
        {
          "output_type": "stream",
          "text": [
            "CPU times: user 39min 3s, sys: 20.2 s, total: 39min 23s\n",
            "Wall time: 2min 30s\n"
          ],
          "name": "stdout"
        },
        {
          "output_type": "execute_result",
          "data": {
            "text/plain": [
              "Content-based factorization model\n",
              "(explicit-feedback)\n"
            ]
          },
          "metadata": {
            "tags": []
          },
          "execution_count": 7
        }
      ]
    },
    {
      "cell_type": "code",
      "metadata": {
        "id": "h8-g3w4_Vqu3",
        "colab_type": "code",
        "colab": {
          "base_uri": "https://localhost:8080/",
          "height": 51
        },
        "outputId": "c187157d-209c-4fd9-b363-7b264c97b017"
      },
      "source": [
        "%%time\n",
        "from cmfrec import ContentBased\n",
        "\n",
        "model_content_based = ContentBased(k=40, maxiter=0, user_bias=False, item_bias=False)\n",
        "model_content_based.fit(X=ratings.loc[ratings.ItemId.isin(item_sideinfo_pca.ItemId)],\n",
        "                        U=user_side_info,\n",
        "                        I=item_sideinfo_pca.loc[item_sideinfo_pca.ItemId.isin(ratings.ItemId)])"
      ],
      "execution_count": 12,
      "outputs": [
        {
          "output_type": "stream",
          "text": [
            "CPU times: user 16min 18s, sys: 1.26 s, total: 16min 19s\n",
            "Wall time: 8min 17s\n"
          ],
          "name": "stdout"
        }
      ]
    },
    {
      "cell_type": "markdown",
      "metadata": {
        "id": "UQSazrmS_RnA",
        "colab_type": "text"
      },
      "source": [
        "### 2.4 Non-personalized model\n",
        "\n",
        "This is an intercepts-only version of the classical model, which estimates one parameter per user and one parameter per item, and as such produces a simple rank of the items based on those parameters. It is intended for comparison purposes and can be helpful to check that the recommendations for different users are having some variability (e.g. setting too large regularization values will tend to make all personalzied recommended lists similar to each other)."
      ]
    },
    {
      "cell_type": "code",
      "metadata": {
        "id": "BBieNxQ3V9cC",
        "colab_type": "code",
        "colab": {
          "base_uri": "https://localhost:8080/",
          "height": 51
        },
        "outputId": "896b9f91-18fd-4ae6-b898-7040fdb2940e"
      },
      "source": [
        "%%time\n",
        "from cmfrec import MostPopular\n",
        "\n",
        "model_non_personalized = MostPopular(user_bias=True, implicit=False)\n",
        "model_non_personalized.fit(ratings)"
      ],
      "execution_count": 13,
      "outputs": [
        {
          "output_type": "stream",
          "text": [
            "CPU times: user 82.1 ms, sys: 2.99 ms, total: 85.1 ms\n",
            "Wall time: 92.6 ms\n"
          ],
          "name": "stdout"
        }
      ]
    },
    {
      "cell_type": "markdown",
      "metadata": {
        "id": "X0Kf1Ity_RnF",
        "colab_type": "text"
      },
      "source": [
        "<a id=\"p3\"></a>\n",
        "## 3. Examining top-N recommended lists\n",
        "\n",
        "This section will examine what would each model recommend to the user with ID 948.\n",
        "\n",
        "This is the demographic information for the user:"
      ]
    },
    {
      "cell_type": "code",
      "metadata": {
        "id": "x92jn51E_RnF",
        "colab_type": "code",
        "outputId": "3a21b152-6d5e-4a74-e4f7-843fd226d713",
        "colab": {
          "base_uri": "https://localhost:8080/",
          "height": 204
        }
      },
      "source": [
        "user_side_info.loc[user_side_info.UserId == 948].T.where(lambda x: x > 0).dropna()"
      ],
      "execution_count": 14,
      "outputs": [
        {
          "output_type": "execute_result",
          "data": {
            "text/html": [
              "<div>\n",
              "<style scoped>\n",
              "    .dataframe tbody tr th:only-of-type {\n",
              "        vertical-align: middle;\n",
              "    }\n",
              "\n",
              "    .dataframe tbody tr th {\n",
              "        vertical-align: top;\n",
              "    }\n",
              "\n",
              "    .dataframe thead th {\n",
              "        text-align: right;\n",
              "    }\n",
              "</style>\n",
              "<table border=\"1\" class=\"dataframe\">\n",
              "  <thead>\n",
              "    <tr style=\"text-align: right;\">\n",
              "      <th></th>\n",
              "      <th>947</th>\n",
              "    </tr>\n",
              "  </thead>\n",
              "  <tbody>\n",
              "    <tr>\n",
              "      <th>UserId</th>\n",
              "      <td>948.0</td>\n",
              "    </tr>\n",
              "    <tr>\n",
              "      <th>Gender_M</th>\n",
              "      <td>1.0</td>\n",
              "    </tr>\n",
              "    <tr>\n",
              "      <th>Age_56</th>\n",
              "      <td>1.0</td>\n",
              "    </tr>\n",
              "    <tr>\n",
              "      <th>Occupation_programmer</th>\n",
              "      <td>1.0</td>\n",
              "    </tr>\n",
              "    <tr>\n",
              "      <th>Region_Midwest</th>\n",
              "      <td>1.0</td>\n",
              "    </tr>\n",
              "  </tbody>\n",
              "</table>\n",
              "</div>"
            ],
            "text/plain": [
              "                         947\n",
              "UserId                 948.0\n",
              "Gender_M                 1.0\n",
              "Age_56                   1.0\n",
              "Occupation_programmer    1.0\n",
              "Region_Midwest           1.0"
            ]
          },
          "metadata": {
            "tags": []
          },
          "execution_count": 14
        }
      ]
    },
    {
      "cell_type": "markdown",
      "metadata": {
        "id": "Fs7HKIOF_RnJ",
        "colab_type": "text"
      },
      "source": [
        "These are the highest-rated movies from the user:"
      ]
    },
    {
      "cell_type": "code",
      "metadata": {
        "id": "k4jIYEqs_RnK",
        "colab_type": "code",
        "outputId": "6e9c5271-285c-43f3-87a2-5fdedeccc87e",
        "colab": {
          "base_uri": "https://localhost:8080/",
          "height": 359
        }
      },
      "source": [
        "ratings\\\n",
        "    .loc[ratings.UserId == 948]\\\n",
        "    .sort_values(\"Rating\", ascending=False)\\\n",
        "    .assign(Movie=lambda x: x.ItemId.map(movie_id_to_title))\\\n",
        "    .head(10)"
      ],
      "execution_count": 15,
      "outputs": [
        {
          "output_type": "execute_result",
          "data": {
            "text/html": [
              "<div>\n",
              "<style scoped>\n",
              "    .dataframe tbody tr th:only-of-type {\n",
              "        vertical-align: middle;\n",
              "    }\n",
              "\n",
              "    .dataframe tbody tr th {\n",
              "        vertical-align: top;\n",
              "    }\n",
              "\n",
              "    .dataframe thead th {\n",
              "        text-align: right;\n",
              "    }\n",
              "</style>\n",
              "<table border=\"1\" class=\"dataframe\">\n",
              "  <thead>\n",
              "    <tr style=\"text-align: right;\">\n",
              "      <th></th>\n",
              "      <th>UserId</th>\n",
              "      <th>ItemId</th>\n",
              "      <th>Rating</th>\n",
              "      <th>Movie</th>\n",
              "    </tr>\n",
              "  </thead>\n",
              "  <tbody>\n",
              "    <tr>\n",
              "      <th>146721</th>\n",
              "      <td>948</td>\n",
              "      <td>3789</td>\n",
              "      <td>5</td>\n",
              "      <td>Pawnbroker, The (1965)</td>\n",
              "    </tr>\n",
              "    <tr>\n",
              "      <th>146889</th>\n",
              "      <td>948</td>\n",
              "      <td>2665</td>\n",
              "      <td>5</td>\n",
              "      <td>Earth Vs. the Flying Saucers (1956)</td>\n",
              "    </tr>\n",
              "    <tr>\n",
              "      <th>146871</th>\n",
              "      <td>948</td>\n",
              "      <td>2640</td>\n",
              "      <td>5</td>\n",
              "      <td>Superman (1978)</td>\n",
              "    </tr>\n",
              "    <tr>\n",
              "      <th>146872</th>\n",
              "      <td>948</td>\n",
              "      <td>2641</td>\n",
              "      <td>5</td>\n",
              "      <td>Superman II (1980)</td>\n",
              "    </tr>\n",
              "    <tr>\n",
              "      <th>147105</th>\n",
              "      <td>948</td>\n",
              "      <td>2761</td>\n",
              "      <td>5</td>\n",
              "      <td>Iron Giant, The (1999)</td>\n",
              "    </tr>\n",
              "    <tr>\n",
              "      <th>146875</th>\n",
              "      <td>948</td>\n",
              "      <td>2644</td>\n",
              "      <td>5</td>\n",
              "      <td>Dracula (1931)</td>\n",
              "    </tr>\n",
              "    <tr>\n",
              "      <th>146878</th>\n",
              "      <td>948</td>\n",
              "      <td>2648</td>\n",
              "      <td>5</td>\n",
              "      <td>Frankenstein (1931)</td>\n",
              "    </tr>\n",
              "    <tr>\n",
              "      <th>147097</th>\n",
              "      <td>948</td>\n",
              "      <td>1019</td>\n",
              "      <td>5</td>\n",
              "      <td>20,000 Leagues Under the Sea (1954)</td>\n",
              "    </tr>\n",
              "    <tr>\n",
              "      <th>146881</th>\n",
              "      <td>948</td>\n",
              "      <td>2657</td>\n",
              "      <td>5</td>\n",
              "      <td>Rocky Horror Picture Show, The (1975)</td>\n",
              "    </tr>\n",
              "    <tr>\n",
              "      <th>146884</th>\n",
              "      <td>948</td>\n",
              "      <td>2660</td>\n",
              "      <td>5</td>\n",
              "      <td>Thing From Another World, The (1951)</td>\n",
              "    </tr>\n",
              "  </tbody>\n",
              "</table>\n",
              "</div>"
            ],
            "text/plain": [
              "        UserId  ItemId  Rating                                  Movie\n",
              "146721     948    3789       5                 Pawnbroker, The (1965)\n",
              "146889     948    2665       5    Earth Vs. the Flying Saucers (1956)\n",
              "146871     948    2640       5                        Superman (1978)\n",
              "146872     948    2641       5                     Superman II (1980)\n",
              "147105     948    2761       5                 Iron Giant, The (1999)\n",
              "146875     948    2644       5                         Dracula (1931)\n",
              "146878     948    2648       5                    Frankenstein (1931)\n",
              "147097     948    1019       5    20,000 Leagues Under the Sea (1954)\n",
              "146881     948    2657       5  Rocky Horror Picture Show, The (1975)\n",
              "146884     948    2660       5   Thing From Another World, The (1951)"
            ]
          },
          "metadata": {
            "tags": []
          },
          "execution_count": 15
        }
      ]
    },
    {
      "cell_type": "markdown",
      "metadata": {
        "id": "XOr1v1jh_RnP",
        "colab_type": "text"
      },
      "source": [
        "These are the lowest-rated movies from the user:"
      ]
    },
    {
      "cell_type": "code",
      "metadata": {
        "id": "2_-QKWSd_RnQ",
        "colab_type": "code",
        "outputId": "ebde4357-d8ff-4b09-a75c-4ad2b1d75a8e",
        "colab": {
          "base_uri": "https://localhost:8080/",
          "height": 359
        }
      },
      "source": [
        "ratings\\\n",
        "    .loc[ratings.UserId == 948]\\\n",
        "    .sort_values(\"Rating\", ascending=True)\\\n",
        "    .assign(Movie=lambda x: x.ItemId.map(movie_id_to_title))\\\n",
        "    .head(10)"
      ],
      "execution_count": 16,
      "outputs": [
        {
          "output_type": "execute_result",
          "data": {
            "text/html": [
              "<div>\n",
              "<style scoped>\n",
              "    .dataframe tbody tr th:only-of-type {\n",
              "        vertical-align: middle;\n",
              "    }\n",
              "\n",
              "    .dataframe tbody tr th {\n",
              "        vertical-align: top;\n",
              "    }\n",
              "\n",
              "    .dataframe thead th {\n",
              "        text-align: right;\n",
              "    }\n",
              "</style>\n",
              "<table border=\"1\" class=\"dataframe\">\n",
              "  <thead>\n",
              "    <tr style=\"text-align: right;\">\n",
              "      <th></th>\n",
              "      <th>UserId</th>\n",
              "      <th>ItemId</th>\n",
              "      <th>Rating</th>\n",
              "      <th>Movie</th>\n",
              "    </tr>\n",
              "  </thead>\n",
              "  <tbody>\n",
              "    <tr>\n",
              "      <th>147237</th>\n",
              "      <td>948</td>\n",
              "      <td>1247</td>\n",
              "      <td>1</td>\n",
              "      <td>Graduate, The (1967)</td>\n",
              "    </tr>\n",
              "    <tr>\n",
              "      <th>147173</th>\n",
              "      <td>948</td>\n",
              "      <td>70</td>\n",
              "      <td>1</td>\n",
              "      <td>From Dusk Till Dawn (1996)</td>\n",
              "    </tr>\n",
              "    <tr>\n",
              "      <th>146768</th>\n",
              "      <td>948</td>\n",
              "      <td>748</td>\n",
              "      <td>1</td>\n",
              "      <td>Arrival, The (1996)</td>\n",
              "    </tr>\n",
              "    <tr>\n",
              "      <th>147135</th>\n",
              "      <td>948</td>\n",
              "      <td>45</td>\n",
              "      <td>1</td>\n",
              "      <td>To Die For (1995)</td>\n",
              "    </tr>\n",
              "    <tr>\n",
              "      <th>146812</th>\n",
              "      <td>948</td>\n",
              "      <td>780</td>\n",
              "      <td>1</td>\n",
              "      <td>Independence Day (ID4) (1996)</td>\n",
              "    </tr>\n",
              "    <tr>\n",
              "      <th>146813</th>\n",
              "      <td>948</td>\n",
              "      <td>788</td>\n",
              "      <td>1</td>\n",
              "      <td>Nutty Professor, The (1996)</td>\n",
              "    </tr>\n",
              "    <tr>\n",
              "      <th>146814</th>\n",
              "      <td>948</td>\n",
              "      <td>3201</td>\n",
              "      <td>1</td>\n",
              "      <td>Five Easy Pieces (1970)</td>\n",
              "    </tr>\n",
              "    <tr>\n",
              "      <th>147118</th>\n",
              "      <td>948</td>\n",
              "      <td>356</td>\n",
              "      <td>1</td>\n",
              "      <td>Forrest Gump (1994)</td>\n",
              "    </tr>\n",
              "    <tr>\n",
              "      <th>146821</th>\n",
              "      <td>948</td>\n",
              "      <td>3070</td>\n",
              "      <td>1</td>\n",
              "      <td>Adventures of Buckaroo Bonzai Across the 8th D...</td>\n",
              "    </tr>\n",
              "    <tr>\n",
              "      <th>146822</th>\n",
              "      <td>948</td>\n",
              "      <td>1617</td>\n",
              "      <td>1</td>\n",
              "      <td>L.A. Confidential (1997)</td>\n",
              "    </tr>\n",
              "  </tbody>\n",
              "</table>\n",
              "</div>"
            ],
            "text/plain": [
              "        UserId  ...                                              Movie\n",
              "147237     948  ...                               Graduate, The (1967)\n",
              "147173     948  ...                         From Dusk Till Dawn (1996)\n",
              "146768     948  ...                                Arrival, The (1996)\n",
              "147135     948  ...                                  To Die For (1995)\n",
              "146812     948  ...                      Independence Day (ID4) (1996)\n",
              "146813     948  ...                        Nutty Professor, The (1996)\n",
              "146814     948  ...                            Five Easy Pieces (1970)\n",
              "147118     948  ...                                Forrest Gump (1994)\n",
              "146821     948  ...  Adventures of Buckaroo Bonzai Across the 8th D...\n",
              "146822     948  ...                           L.A. Confidential (1997)\n",
              "\n",
              "[10 rows x 4 columns]"
            ]
          },
          "metadata": {
            "tags": []
          },
          "execution_count": 16
        }
      ]
    },
    {
      "cell_type": "markdown",
      "metadata": {
        "id": "FaDxOWYT_RnT",
        "colab_type": "text"
      },
      "source": [
        "Now producing recommendations from each model:"
      ]
    },
    {
      "cell_type": "code",
      "metadata": {
        "id": "U56LvNq-_RnU",
        "colab_type": "code",
        "colab": {}
      },
      "source": [
        "### Will exclude already-seen movies\n",
        "exclude = ratings.ItemId.loc[ratings.UserId == 948]\n",
        "exclude_cb = exclude.loc[exclude.isin(item_sideinfo_pca.ItemId)]\n",
        "\n",
        "### Recommended lists with those excluded\n",
        "recommended_non_personalized = model_non_personalized.topN(user=948, n=10, exclude=exclude)\n",
        "recommended_no_side_info = model_no_sideinfo.topN(user=948, n=10, exclude=exclude)\n",
        "recommended_with_side_info = model_with_sideinfo.topN(user=948, n=10, exclude=exclude)\n",
        "recommended_content_based = model_content_based.topN(user=948, n=10, exclude=exclude_cb)"
      ],
      "execution_count": 0,
      "outputs": []
    },
    {
      "cell_type": "code",
      "metadata": {
        "id": "eZD-Haux_RnY",
        "colab_type": "code",
        "outputId": "eab8320e-2650-4a8d-db60-dd8f0c050115",
        "colab": {
          "base_uri": "https://localhost:8080/",
          "height": 34
        }
      },
      "source": [
        "recommended_non_personalized"
      ],
      "execution_count": 18,
      "outputs": [
        {
          "output_type": "execute_result",
          "data": {
            "text/plain": [
              "array([2019,  318, 2905,  745, 1148, 1212, 3435,  923,  720, 3307])"
            ]
          },
          "metadata": {
            "tags": []
          },
          "execution_count": 18
        }
      ]
    },
    {
      "cell_type": "markdown",
      "metadata": {
        "id": "ungGvN3F_Rna",
        "colab_type": "text"
      },
      "source": [
        "A handy function to print top-N recommended lists with associated information:"
      ]
    },
    {
      "cell_type": "code",
      "metadata": {
        "id": "zoqZNPB__Rnb",
        "colab_type": "code",
        "outputId": "0df9ad08-17b2-4d32-e5cb-26da4b64d696",
        "colab": {
          "base_uri": "https://localhost:8080/",
          "height": 816
        }
      },
      "source": [
        "from collections import defaultdict\n",
        "\n",
        "# aggregate statistics\n",
        "avg_movie_rating = defaultdict(lambda: 0)\n",
        "num_ratings_per_movie = defaultdict(lambda: 0)\n",
        "for i in ratings.groupby('ItemId')['Rating'].mean().to_frame().itertuples():\n",
        "    avg_movie_rating[i.Index] = i.Rating\n",
        "for i in ratings.groupby('ItemId')['Rating'].agg(lambda x: len(tuple(x))).to_frame().itertuples():\n",
        "    num_ratings_per_movie[i.Index] = i.Rating\n",
        "\n",
        "# function to print recommended lists more nicely\n",
        "def print_reclist(reclist):\n",
        "    list_w_info = [str(m + 1) + \") - \" + movie_id_to_title[reclist[m]] +\\\n",
        "        \" - Average Rating: \" + str(np.round(avg_movie_rating[reclist[m]], 2))+\\\n",
        "        \" - Number of ratings: \" + str(num_ratings_per_movie[reclist[m]])\\\n",
        "                   for m in range(len(reclist))]\n",
        "    print(\"\\n\".join(list_w_info))\n",
        "    \n",
        "print(\"Recommended from non-personalized model\")\n",
        "print_reclist(recommended_non_personalized)\n",
        "print(\"----------------\")\n",
        "print(\"Recommended from ratings-only model\")\n",
        "print_reclist(recommended_no_side_info)\n",
        "print(\"----------------\")\n",
        "print(\"Recommended from attributes-only model\")\n",
        "print_reclist(recommended_content_based)\n",
        "print(\"----------------\")\n",
        "print(\"Recommended from hybrid model\")\n",
        "print_reclist(recommended_with_side_info)"
      ],
      "execution_count": 19,
      "outputs": [
        {
          "output_type": "stream",
          "text": [
            "Recommended from non-personalized model\n",
            "1) - Seven Samurai (The Magnificent Seven) (Shichinin no samurai) (1954) - Average Rating: 4.56 - Number of ratings: 628\n",
            "2) - Shawshank Redemption, The (1994) - Average Rating: 4.55 - Number of ratings: 2227\n",
            "3) - Sanjuro (1962) - Average Rating: 4.61 - Number of ratings: 69\n",
            "4) - Close Shave, A (1995) - Average Rating: 4.52 - Number of ratings: 657\n",
            "5) - Wrong Trousers, The (1993) - Average Rating: 4.51 - Number of ratings: 882\n",
            "6) - Third Man, The (1949) - Average Rating: 4.45 - Number of ratings: 480\n",
            "7) - Double Indemnity (1944) - Average Rating: 4.42 - Number of ratings: 551\n",
            "8) - Citizen Kane (1941) - Average Rating: 4.39 - Number of ratings: 1116\n",
            "9) - Wallace & Gromit: The Best of Aardman Animation (1996) - Average Rating: 4.43 - Number of ratings: 438\n",
            "10) - City Lights (1931) - Average Rating: 4.39 - Number of ratings: 271\n",
            "----------------\n",
            "Recommended from ratings-only model\n",
            "1) - Babe (1995) - Average Rating: 3.89 - Number of ratings: 1751\n",
            "2) - Great Dictator, The (1940) - Average Rating: 4.03 - Number of ratings: 216\n",
            "3) - Beauty and the Beast (1991) - Average Rating: 3.89 - Number of ratings: 1060\n",
            "4) - Nosferatu (Nosferatu, eine Symphonie des Grauens) (1922) - Average Rating: 3.99 - Number of ratings: 238\n",
            "5) - Midsummer Night's Dream, A (1999) - Average Rating: 3.35 - Number of ratings: 415\n",
            "6) - It's a Wonderful Life (1946) - Average Rating: 4.3 - Number of ratings: 729\n",
            "7) - Gold Rush, The (1925) - Average Rating: 4.19 - Number of ratings: 275\n",
            "8) - Best Years of Our Lives, The (1946) - Average Rating: 4.12 - Number of ratings: 236\n",
            "9) - All Quiet on the Western Front (1930) - Average Rating: 4.19 - Number of ratings: 268\n",
            "10) - City Lights (1931) - Average Rating: 4.39 - Number of ratings: 271\n",
            "----------------\n",
            "Recommended from attributes-only model\n",
            "1) - Shawshank Redemption, The (1994) - Average Rating: 4.55 - Number of ratings: 2227\n",
            "2) - Third Man, The (1949) - Average Rating: 4.45 - Number of ratings: 480\n",
            "3) - City Lights (1931) - Average Rating: 4.39 - Number of ratings: 271\n",
            "4) - Jean de Florette (1986) - Average Rating: 4.32 - Number of ratings: 216\n",
            "5) - It Happened One Night (1934) - Average Rating: 4.28 - Number of ratings: 374\n",
            "6) - Central Station (Central do Brasil) (1998) - Average Rating: 4.28 - Number of ratings: 215\n",
            "7) - Best Years of Our Lives, The (1946) - Average Rating: 4.12 - Number of ratings: 236\n",
            "8) - Man Who Would Be King, The (1975) - Average Rating: 4.13 - Number of ratings: 310\n",
            "9) - Good Will Hunting (1997) - Average Rating: 4.18 - Number of ratings: 1548\n",
            "10) - Double Indemnity (1944) - Average Rating: 4.42 - Number of ratings: 551\n",
            "----------------\n",
            "Recommended from hybrid model\n",
            "1) - Arsenic and Old Lace (1944) - Average Rating: 4.17 - Number of ratings: 672\n",
            "2) - Babe (1995) - Average Rating: 3.89 - Number of ratings: 1751\n",
            "3) - Nosferatu (Nosferatu, eine Symphonie des Grauens) (1922) - Average Rating: 3.99 - Number of ratings: 238\n",
            "4) - Seven Samurai (The Magnificent Seven) (Shichinin no samurai) (1954) - Average Rating: 4.56 - Number of ratings: 628\n",
            "5) - Night of the Living Dead (1968) - Average Rating: 3.67 - Number of ratings: 715\n",
            "6) - Gold Rush, The (1925) - Average Rating: 4.19 - Number of ratings: 275\n",
            "7) - Christmas Carol, A (1938) - Average Rating: 3.99 - Number of ratings: 194\n",
            "8) - Singin' in the Rain (1952) - Average Rating: 4.28 - Number of ratings: 751\n",
            "9) - Birds, The (1963) - Average Rating: 3.88 - Number of ratings: 733\n",
            "10) - Mr. Smith Goes to Washington (1939) - Average Rating: 4.24 - Number of ratings: 383\n"
          ],
          "name": "stdout"
        }
      ]
    },
    {
      "cell_type": "markdown",
      "metadata": {
        "id": "pyngutT0_Rng",
        "colab_type": "text"
      },
      "source": [
        "(As can be seen, the personalized recommendations tend to recommend very old movies, which is what this user seems to rate highly, with no overlap with the non-personalized recommendations)."
      ]
    },
    {
      "cell_type": "markdown",
      "metadata": {
        "id": "e8Ptq8Qw_Rnh",
        "colab_type": "text"
      },
      "source": [
        "<a id=\"p4\"></a>\n",
        "## 4. Tuning model parameters\n",
        "\n",
        "The models here offer many tuneable parameters which can be tweaked in order to alter the recommended lists in some way. For example, setting a low regularization to the item biases will tend to favor movies with a high average rating regardless of the number of ratings, while setting a high regularization for the factorizing matrices will tend to produce the same recommendations for all users."
      ]
    },
    {
      "cell_type": "code",
      "metadata": {
        "id": "LbepXtVaZEHy",
        "colab_type": "code",
        "colab": {
          "base_uri": "https://localhost:8080/",
          "height": 187
        },
        "outputId": "ea783842-4757-4fc6-a565-28d220bd0f11"
      },
      "source": [
        "### Less personalized (underfitted)\n",
        "reclist = \\\n",
        "    CMF_explicit(lambda_=[1e+3, 1e+1, 1e+2, 1e+2, 1e+2, 1e+2])\\\n",
        "        .fit(ratings)\\\n",
        "        .topN(user=948, n=10, exclude=exclude)\n",
        "print_reclist(reclist)"
      ],
      "execution_count": 20,
      "outputs": [
        {
          "output_type": "stream",
          "text": [
            "1) - Seven Samurai (The Magnificent Seven) (Shichinin no samurai) (1954) - Average Rating: 4.56 - Number of ratings: 628\n",
            "2) - Shawshank Redemption, The (1994) - Average Rating: 4.55 - Number of ratings: 2227\n",
            "3) - Close Shave, A (1995) - Average Rating: 4.52 - Number of ratings: 657\n",
            "4) - Wrong Trousers, The (1993) - Average Rating: 4.51 - Number of ratings: 882\n",
            "5) - Sanjuro (1962) - Average Rating: 4.61 - Number of ratings: 69\n",
            "6) - Third Man, The (1949) - Average Rating: 4.45 - Number of ratings: 480\n",
            "7) - Double Indemnity (1944) - Average Rating: 4.42 - Number of ratings: 551\n",
            "8) - Wallace & Gromit: The Best of Aardman Animation (1996) - Average Rating: 4.43 - Number of ratings: 438\n",
            "9) - Citizen Kane (1941) - Average Rating: 4.39 - Number of ratings: 1116\n",
            "10) - City Lights (1931) - Average Rating: 4.39 - Number of ratings: 271\n"
          ],
          "name": "stdout"
        }
      ]
    },
    {
      "cell_type": "code",
      "metadata": {
        "id": "CvMNrPcI_Rnl",
        "colab_type": "code",
        "outputId": "31f95a52-cc3f-46ef-90f1-c8acfa7cc307",
        "colab": {
          "base_uri": "https://localhost:8080/",
          "height": 187
        }
      },
      "source": [
        "### More personalized (overfitted)\n",
        "reclist = \\\n",
        "    CMF_explicit(lambda_=[0., 1e+3, 1e-1, 1e-1, 1e-1, 1e-1])\\\n",
        "        .fit(ratings)\\\n",
        "        .topN(user=948, n=10, exclude=exclude)\n",
        "print_reclist(reclist)"
      ],
      "execution_count": 21,
      "outputs": [
        {
          "output_type": "stream",
          "text": [
            "1) - White Man's Burden (1995) - Average Rating: 2.46 - Number of ratings: 52\n",
            "2) - Funny Bones (1995) - Average Rating: 3.41 - Number of ratings: 39\n",
            "3) - Dangerous Beauty (1998) - Average Rating: 3.65 - Number of ratings: 100\n",
            "4) - Get Carter (1971) - Average Rating: 3.47 - Number of ratings: 55\n",
            "5) - Fandango (1985) - Average Rating: 3.67 - Number of ratings: 66\n",
            "6) - World of Apu, The (Apur Sansar) (1959) - Average Rating: 4.41 - Number of ratings: 56\n",
            "7) - House of Frankenstein (1944) - Average Rating: 3.19 - Number of ratings: 52\n",
            "8) - Adventures of Pinocchio, The (1996) - Average Rating: 2.91 - Number of ratings: 54\n",
            "9) - Jude (1996) - Average Rating: 3.54 - Number of ratings: 50\n",
            "10) - Duel in the Sun (1946) - Average Rating: 3.56 - Number of ratings: 72\n"
          ],
          "name": "stdout"
        }
      ]
    },
    {
      "cell_type": "markdown",
      "metadata": {
        "id": "z4Q3K0UI_Rno",
        "colab_type": "text"
      },
      "source": [
        "The collective model can also have variations such as weighting each factorization differently, or setting components (factors) that are not to be shared between factorizations (not shown)."
      ]
    },
    {
      "cell_type": "code",
      "metadata": {
        "id": "2bBvcV6V_Rnp",
        "colab_type": "code",
        "outputId": "0cf5f870-8e8f-426b-d1e0-3592b716a6b8",
        "colab": {
          "base_uri": "https://localhost:8080/",
          "height": 187
        }
      },
      "source": [
        "### More oriented towards content-based than towards collaborative-filtering\n",
        "reclist = \\\n",
        "    CMF_explicit(k=40, w_main=0.5, w_item=3., w_user=5., lambda_=1e+1)\\\n",
        "        .fit(ratings, U=user_side_info, I=item_sideinfo_pca)\\\n",
        "        .topN(user=948, n=10, exclude=exclude)\n",
        "print_reclist(reclist)"
      ],
      "execution_count": 22,
      "outputs": [
        {
          "output_type": "stream",
          "text": [
            "1) - Nosferatu (Nosferatu, eine Symphonie des Grauens) (1922) - Average Rating: 3.99 - Number of ratings: 238\n",
            "2) - Singin' in the Rain (1952) - Average Rating: 4.28 - Number of ratings: 751\n",
            "3) - It Happened One Night (1934) - Average Rating: 4.28 - Number of ratings: 374\n",
            "4) - It's a Wonderful Life (1946) - Average Rating: 4.3 - Number of ratings: 729\n",
            "5) - Invasion of the Body Snatchers (1956) - Average Rating: 3.91 - Number of ratings: 628\n",
            "6) - Arsenic and Old Lace (1944) - Average Rating: 4.17 - Number of ratings: 672\n",
            "7) - Miracle on 34th Street (1947) - Average Rating: 3.96 - Number of ratings: 380\n",
            "8) - Seven Samurai (The Magnificent Seven) (Shichinin no samurai) (1954) - Average Rating: 4.56 - Number of ratings: 628\n",
            "9) - Bride of Frankenstein (1935) - Average Rating: 3.91 - Number of ratings: 216\n",
            "10) - Gold Rush, The (1925) - Average Rating: 4.19 - Number of ratings: 275\n"
          ],
          "name": "stdout"
        }
      ]
    },
    {
      "cell_type": "markdown",
      "metadata": {
        "id": "sX6_Rzc3_Rns",
        "colab_type": "text"
      },
      "source": [
        "<a id=\"p5\"></a>\n",
        "## 5. Recommendations for new users\n",
        "\n",
        "Models can also be used to make recommendations for new users based on ratings and/or side information.\n",
        "\n",
        "_(Be aware that, due to the nature of computer floating point aithmetic, there might be some slight discrepancies between the results from `topN` and `topN_warm`)_"
      ]
    },
    {
      "cell_type": "code",
      "metadata": {
        "id": "rw_Lgqjc_Rnv",
        "colab_type": "code",
        "outputId": "dc87bf66-113b-42e3-9e99-c30884b32724",
        "colab": {
          "base_uri": "https://localhost:8080/",
          "height": 187
        }
      },
      "source": [
        "print_reclist(model_with_sideinfo.topN_warm(X_col=ratings.ItemId.loc[ratings.UserId == 948],\n",
        "                                            X_val=ratings.Rating.loc[ratings.UserId == 948],\n",
        "                                            exclude=exclude))"
      ],
      "execution_count": 23,
      "outputs": [
        {
          "output_type": "stream",
          "text": [
            "1) - Arsenic and Old Lace (1944) - Average Rating: 4.17 - Number of ratings: 672\n",
            "2) - Babe (1995) - Average Rating: 3.89 - Number of ratings: 1751\n",
            "3) - Nosferatu (Nosferatu, eine Symphonie des Grauens) (1922) - Average Rating: 3.99 - Number of ratings: 238\n",
            "4) - Seven Samurai (The Magnificent Seven) (Shichinin no samurai) (1954) - Average Rating: 4.56 - Number of ratings: 628\n",
            "5) - Night of the Living Dead (1968) - Average Rating: 3.67 - Number of ratings: 715\n",
            "6) - Gold Rush, The (1925) - Average Rating: 4.19 - Number of ratings: 275\n",
            "7) - Christmas Carol, A (1938) - Average Rating: 3.99 - Number of ratings: 194\n",
            "8) - Singin' in the Rain (1952) - Average Rating: 4.28 - Number of ratings: 751\n",
            "9) - Birds, The (1963) - Average Rating: 3.88 - Number of ratings: 733\n",
            "10) - Mr. Smith Goes to Washington (1939) - Average Rating: 4.24 - Number of ratings: 383\n"
          ],
          "name": "stdout"
        }
      ]
    },
    {
      "cell_type": "code",
      "metadata": {
        "id": "yGSBinfQ_Rny",
        "colab_type": "code",
        "outputId": "306802a8-0f70-42aa-b4cd-97dbef5ad3b7",
        "colab": {
          "base_uri": "https://localhost:8080/",
          "height": 187
        }
      },
      "source": [
        "print_reclist(model_with_sideinfo.topN_warm(X_col=ratings.ItemId.loc[ratings.UserId == 948],\n",
        "                                            X_val=ratings.Rating.loc[ratings.UserId == 948],\n",
        "                                            U=user_side_info.loc[user_side_info.UserId == 948],\n",
        "                                            exclude=exclude))"
      ],
      "execution_count": 24,
      "outputs": [
        {
          "output_type": "stream",
          "text": [
            "1) - Arsenic and Old Lace (1944) - Average Rating: 4.17 - Number of ratings: 672\n",
            "2) - Babe (1995) - Average Rating: 3.89 - Number of ratings: 1751\n",
            "3) - Nosferatu (Nosferatu, eine Symphonie des Grauens) (1922) - Average Rating: 3.99 - Number of ratings: 238\n",
            "4) - Seven Samurai (The Magnificent Seven) (Shichinin no samurai) (1954) - Average Rating: 4.56 - Number of ratings: 628\n",
            "5) - Night of the Living Dead (1968) - Average Rating: 3.67 - Number of ratings: 715\n",
            "6) - Gold Rush, The (1925) - Average Rating: 4.19 - Number of ratings: 275\n",
            "7) - Christmas Carol, A (1938) - Average Rating: 3.99 - Number of ratings: 194\n",
            "8) - Singin' in the Rain (1952) - Average Rating: 4.28 - Number of ratings: 751\n",
            "9) - Birds, The (1963) - Average Rating: 3.88 - Number of ratings: 733\n",
            "10) - Mr. Smith Goes to Washington (1939) - Average Rating: 4.24 - Number of ratings: 383\n"
          ],
          "name": "stdout"
        }
      ]
    },
    {
      "cell_type": "code",
      "metadata": {
        "id": "tWdXR6W9_Rn3",
        "colab_type": "code",
        "outputId": "ae57a973-9ca1-4d3b-c6f3-665f3212e0ba",
        "colab": {
          "base_uri": "https://localhost:8080/",
          "height": 187
        }
      },
      "source": [
        "print_reclist(model_with_sideinfo.topN_cold(U=user_side_info.loc[user_side_info.UserId == 948].drop(\"UserId\", axis=1),\n",
        "                                            exclude=exclude))"
      ],
      "execution_count": 25,
      "outputs": [
        {
          "output_type": "stream",
          "text": [
            "1) - Shawshank Redemption, The (1994) - Average Rating: 4.55 - Number of ratings: 2227\n",
            "2) - Seven Samurai (The Magnificent Seven) (Shichinin no samurai) (1954) - Average Rating: 4.56 - Number of ratings: 628\n",
            "3) - Wrong Trousers, The (1993) - Average Rating: 4.51 - Number of ratings: 882\n",
            "4) - Close Shave, A (1995) - Average Rating: 4.52 - Number of ratings: 657\n",
            "5) - Sanjuro (1962) - Average Rating: 4.61 - Number of ratings: 69\n",
            "6) - Wallace & Gromit: The Best of Aardman Animation (1996) - Average Rating: 4.43 - Number of ratings: 438\n",
            "7) - Life Is Beautiful (La Vita � bella) (1997) - Average Rating: 4.33 - Number of ratings: 1152\n",
            "8) - Double Indemnity (1944) - Average Rating: 4.42 - Number of ratings: 551\n",
            "9) - Grand Day Out, A (1992) - Average Rating: 4.36 - Number of ratings: 473\n",
            "10) - Third Man, The (1949) - Average Rating: 4.45 - Number of ratings: 480\n"
          ],
          "name": "stdout"
        }
      ]
    },
    {
      "cell_type": "markdown",
      "metadata": {
        "id": "7vrDfwt6_Rn6",
        "colab_type": "text"
      },
      "source": [
        "This last one is very similar to the non-personalized recommended list - that is, the user side information had very little leverage in the model, at least for that user - in this regard, the content-based model tends to be better at cold-start recommendations:"
      ]
    },
    {
      "cell_type": "code",
      "metadata": {
        "id": "Xjn2VBOs_Rn7",
        "colab_type": "code",
        "outputId": "cb10d22c-8f89-4c6f-b331-493358da82b1",
        "colab": {
          "base_uri": "https://localhost:8080/",
          "height": 187
        }
      },
      "source": [
        "print_reclist(model_content_based.topN_cold(U=user_side_info.loc[user_side_info.UserId == 948].drop(\"UserId\", axis=1),\n",
        "                                            exclude=exclude_cb))"
      ],
      "execution_count": 26,
      "outputs": [
        {
          "output_type": "stream",
          "text": [
            "1) - Shawshank Redemption, The (1994) - Average Rating: 4.55 - Number of ratings: 2227\n",
            "2) - Third Man, The (1949) - Average Rating: 4.45 - Number of ratings: 480\n",
            "3) - City Lights (1931) - Average Rating: 4.39 - Number of ratings: 271\n",
            "4) - Jean de Florette (1986) - Average Rating: 4.32 - Number of ratings: 216\n",
            "5) - It Happened One Night (1934) - Average Rating: 4.28 - Number of ratings: 374\n",
            "6) - Central Station (Central do Brasil) (1998) - Average Rating: 4.28 - Number of ratings: 215\n",
            "7) - Best Years of Our Lives, The (1946) - Average Rating: 4.12 - Number of ratings: 236\n",
            "8) - Man Who Would Be King, The (1975) - Average Rating: 4.13 - Number of ratings: 310\n",
            "9) - Good Will Hunting (1997) - Average Rating: 4.18 - Number of ratings: 1548\n",
            "10) - Double Indemnity (1944) - Average Rating: 4.42 - Number of ratings: 551\n"
          ],
          "name": "stdout"
        }
      ]
    },
    {
      "cell_type": "markdown",
      "metadata": {
        "id": "t88Y_flI_RoB",
        "colab_type": "text"
      },
      "source": [
        "_(For this use-case, would also be better to add item biases to the content-based model though)_"
      ]
    },
    {
      "cell_type": "markdown",
      "metadata": {
        "id": "ce-rRBmn_RoD",
        "colab_type": "text"
      },
      "source": [
        "<a id=\"p6\"></a>\n",
        "## 6. Evaluating models\n",
        "\n",
        "This section shows usage of the `predict` family of functions for getting the predicted  rating for a given user and item, in order to calculate evaluation metrics such as RMSE and tune model parameters.\n",
        "\n",
        "**Note that, while widely used in earlier literature, RMSE might not provide a good overview of the ranking of items (which is what matters for recommendations), and it's recommended to also evaluate other metrics such as P@K, correlations, etc.**\n",
        "\n",
        "**Also be aware that there is a different class `CMF_implicit` which might perform better at implicit-feedback matrics such as P@K.**\n",
        "\n",
        "When making recommendations, there's quite a difference between making predictions based on ratings data or based on side information alone. In this regard, one can classify prediction types into 4 types:\n",
        "1. Predictions for users and items which were both in the training data.\n",
        "2. Predictions for users which were in the training data and items which were not in the training data.\n",
        "3. Predictions for users which were not in the training data and items which were in the training data.\n",
        "4. Predictions for users and items, of which neither were in the training data.\n",
        "\n",
        "(One could sub-divide further according to users/items which were present in the training data with only ratings or with only side information, but this notebook will not go into that level of detail)\n",
        "\n",
        "The classic model is only able to make predictions for the first case, while the collective model can leverage the side information in order to make predictions for (2) and (3). In theory, it could also do (4), but this is not recommended and the API does not provide such functionality.\n",
        "\n",
        "The content-based model, on the other hand, is an ideal approach for case (4). The package also provides a different model (the \"offsets\" model - see references at the bottom) aimed at improving cases (2) and (3) when there is side information about only user or only about items at the expense of case (1), but such models are not shown in this notebook."
      ]
    },
    {
      "cell_type": "markdown",
      "metadata": {
        "id": "2fSdKqYg_RoE",
        "colab_type": "text"
      },
      "source": [
        "** *\n",
        "Producing a training and test set split of the ratings and side information:"
      ]
    },
    {
      "cell_type": "code",
      "metadata": {
        "id": "il9w-gpc_RoG",
        "colab_type": "code",
        "outputId": "e80e81ef-48ba-48ef-d700-0fe7ba96e9ea",
        "colab": {
          "base_uri": "https://localhost:8080/",
          "height": 102
        }
      },
      "source": [
        "from sklearn.model_selection import train_test_split\n",
        "\n",
        "users_train, users_test = train_test_split(ratings.UserId.unique(), test_size=0.2, random_state=1)\n",
        "items_train, items_test = train_test_split(ratings.ItemId.unique(), test_size=0.2, random_state=2)\n",
        "\n",
        "ratings_train, ratings_test1 = train_test_split(ratings.loc[ratings.UserId.isin(users_train) &\n",
        "                                                            ratings.ItemId.isin(items_train)],\n",
        "                                                test_size=0.2, random_state=123)\n",
        "users_train = ratings_train.UserId.unique()\n",
        "items_train = ratings_train.ItemId.unique()\n",
        "ratings_test1 = ratings_test1.loc[ratings_test1.UserId.isin(users_train) &\n",
        "                                  ratings_test1.ItemId.isin(items_train)]\n",
        "\n",
        "user_attr_train = user_side_info.loc[user_side_info.UserId.isin(users_train)]\n",
        "item_attr_train = item_sideinfo_pca.loc[item_sideinfo_pca.ItemId.isin(items_train)]\n",
        "\n",
        "ratings_test2 = ratings.loc[ratings.UserId.isin(users_train) &\n",
        "                            ~ratings.ItemId.isin(items_train) &\n",
        "                            ratings.ItemId.isin(item_sideinfo_pca.ItemId)]\n",
        "ratings_test3 = ratings.loc[~ratings.UserId.isin(users_train) &\n",
        "                            ratings.ItemId.isin(items_train) &\n",
        "                            ratings.UserId.isin(user_side_info.UserId) &\n",
        "                            ratings.ItemId.isin(item_sideinfo_pca.ItemId)]\n",
        "ratings_test4 = ratings.loc[~ratings.UserId.isin(users_train) &\n",
        "                            ~ratings.ItemId.isin(items_train) &\n",
        "                            ratings.UserId.isin(user_side_info.UserId) &\n",
        "                            ratings.ItemId.isin(item_sideinfo_pca.ItemId)]\n",
        "\n",
        "\n",
        "print(\"Number of ratings in training data: %d\" % ratings_train.shape[0])\n",
        "print(\"Number of ratings in test data type (1): %d\" % ratings_test1.shape[0])\n",
        "print(\"Number of ratings in test data type (2): %d\" % ratings_test2.shape[0])\n",
        "print(\"Number of ratings in test data type (3): %d\" % ratings_test3.shape[0])\n",
        "print(\"Number of ratings in test data type (4): %d\" % ratings_test4.shape[0])"
      ],
      "execution_count": 27,
      "outputs": [
        {
          "output_type": "stream",
          "text": [
            "Number of ratings in training data: 512972\n",
            "Number of ratings in test data type (1): 128221\n",
            "Number of ratings in test data type (2): 153128\n",
            "Number of ratings in test data type (3): 138904\n",
            "Number of ratings in test data type (4): 36450\n"
          ],
          "name": "stdout"
        }
      ]
    },
    {
      "cell_type": "code",
      "metadata": {
        "id": "WP58WaWg_RoK",
        "colab_type": "code",
        "colab": {}
      },
      "source": [
        "### Handy usage of Pandas indexing\n",
        "user_attr_test = user_side_info.set_index(\"UserId\")\n",
        "item_attr_test = item_sideinfo_pca.set_index(\"ItemId\")"
      ],
      "execution_count": 0,
      "outputs": []
    },
    {
      "cell_type": "markdown",
      "metadata": {
        "id": "eVjxhgRy_RoN",
        "colab_type": "text"
      },
      "source": [
        "Re-fitting earlier models to the training subset of the earlier data:"
      ]
    },
    {
      "cell_type": "code",
      "metadata": {
        "id": "vxx90jbd_RoP",
        "colab_type": "code",
        "colab": {}
      },
      "source": [
        "m_classic = CMF_explicit(k=40)\\\n",
        "                .fit(ratings_train)\n",
        "m_collective = CMF_explicit(k=40, w_main=0.5, w_user=0.5, w_item=0.5)\\\n",
        "                .fit(X=ratings_train,\n",
        "                     U=user_attr_train,\n",
        "                     I=item_attr_train)\n",
        "m_contentbased = ContentBased(k=40, user_bias=False, item_bias=False)\\\n",
        "                .fit(X=ratings_train.loc[ratings_train.UserId.isin(user_attr_train.UserId) &\n",
        "                                         ratings_train.ItemId.isin(item_attr_train.ItemId)],\n",
        "                     U=user_attr_train,\n",
        "                     I=item_attr_train)\n",
        "m_mostpopular = MostPopular(user_bias=True)\\\n",
        "                .fit(X=ratings_train)"
      ],
      "execution_count": 0,
      "outputs": []
    },
    {
      "cell_type": "markdown",
      "metadata": {
        "id": "qiO6KvTm_RoU",
        "colab_type": "text"
      },
      "source": [
        "RMSE for users and items which were both in the training data:"
      ]
    },
    {
      "cell_type": "code",
      "metadata": {
        "id": "ouHQvnmV_RoU",
        "colab_type": "code",
        "outputId": "dd686304-0053-4026-c675-03b0fd804962",
        "colab": {
          "base_uri": "https://localhost:8080/",
          "height": 85
        }
      },
      "source": [
        "from sklearn.metrics import mean_squared_error\n",
        "\n",
        "pred_contetbased = m_mostpopular.predict(ratings_test1.UserId, ratings_test1.ItemId)\n",
        "print(\"RMSE type 1 non-personalized model: %.3f [rho: %.3f]\" %\n",
        "      (mean_squared_error(ratings_test1.Rating,\n",
        "                          pred_contetbased,\n",
        "                          squared=True),\n",
        "      np.corrcoef(ratings_test1.Rating, pred_contetbased)[0,1]))\n",
        "\n",
        "pred_ratingsonly = m_classic.predict(ratings_test1.UserId, ratings_test1.ItemId)\n",
        "print(\"RMSE type 1 ratings-only model: %.3f [rho: %.3f]\" %\n",
        "      (mean_squared_error(ratings_test1.Rating,\n",
        "                          pred_ratingsonly,\n",
        "                          squared=True),\n",
        "       np.corrcoef(ratings_test1.Rating, pred_ratingsonly)[0,1]))\n",
        "\n",
        "pred_hybrid = m_collective.predict(ratings_test1.UserId, ratings_test1.ItemId)\n",
        "print(\"RMSE type 1 hybrid model: %.3f [rho: %.3f]\" %\n",
        "      (mean_squared_error(ratings_test1.Rating,\n",
        "                          pred_hybrid,\n",
        "                          squared=True),\n",
        "       np.corrcoef(ratings_test1.Rating, pred_hybrid)[0,1]))\n",
        "\n",
        "test_cb = ratings_test1.loc[ratings_test1.UserId.isin(user_attr_train.UserId) &\n",
        "                            ratings_test1.ItemId.isin(item_attr_train.ItemId)]\n",
        "pred_contentbased = m_contentbased.predict(test_cb.UserId, test_cb.ItemId)\n",
        "print(\"RMSE type 1 content-based model: %.3f [rho: %.3f]\" %\n",
        "      (mean_squared_error(test_cb.Rating,\n",
        "                          pred_contentbased,\n",
        "                          squared=True),\n",
        "       np.corrcoef(test_cb.Rating, pred_contentbased)[0,1]))"
      ],
      "execution_count": 30,
      "outputs": [
        {
          "output_type": "stream",
          "text": [
            "RMSE type 1 non-personalized model: 0.830 [rho: 0.580]\n",
            "RMSE type 1 ratings-only model: 0.808 [rho: 0.601]\n",
            "RMSE type 1 hybrid model: 0.742 [rho: 0.640]\n",
            "RMSE type 1 content-based model: 0.951 [rho: 0.486]\n"
          ],
          "name": "stdout"
        }
      ]
    },
    {
      "cell_type": "markdown",
      "metadata": {
        "id": "NeiOL56J_RoX",
        "colab_type": "text"
      },
      "source": [
        "RMSE for users which were in the training data but items which were not:"
      ]
    },
    {
      "cell_type": "code",
      "metadata": {
        "id": "jwPKfZDC_RoY",
        "colab_type": "code",
        "outputId": "f7be33b4-eae8-40be-ff73-2b938f4ef098",
        "colab": {
          "base_uri": "https://localhost:8080/",
          "height": 51
        }
      },
      "source": [
        "pred_hybrid = m_collective.predict_new(ratings_test2.UserId,\n",
        "                                       item_attr_test.loc[ratings_test2.ItemId])\n",
        "print(\"RMSE type 2 hybrid model: %.3f [rho: %.3f]\" %\n",
        "      (mean_squared_error(ratings_test2.Rating,\n",
        "                          pred_hybrid,\n",
        "                          squared=True),\n",
        "       np.corrcoef(ratings_test2.Rating, pred_hybrid)[0,1]))\n",
        "\n",
        "pred_contentbased = m_contentbased.predict_new(user_attr_test.loc[ratings_test2.UserId],\n",
        "                                               item_attr_test.loc[ratings_test2.ItemId])\n",
        "print(\"RMSE type 2 content-based model: %.3f [rho: %.3f]\" %\n",
        "      (mean_squared_error(ratings_test2.Rating,\n",
        "                          pred_contentbased,\n",
        "                          squared=True),\n",
        "       np.corrcoef(ratings_test2.Rating, pred_contentbased)[0,1]))"
      ],
      "execution_count": 31,
      "outputs": [
        {
          "output_type": "stream",
          "text": [
            "RMSE type 2 hybrid model: 1.046 [rho: 0.423]\n",
            "RMSE type 2 content-based model: 0.954 [rho: 0.484]\n"
          ],
          "name": "stdout"
        }
      ]
    },
    {
      "cell_type": "markdown",
      "metadata": {
        "id": "bUe-8ZNz_Rob",
        "colab_type": "text"
      },
      "source": [
        "RMSE for items which were in the training data but users which were not:"
      ]
    },
    {
      "cell_type": "code",
      "metadata": {
        "id": "nxQzKXci_Rob",
        "colab_type": "code",
        "outputId": "c8b9e616-cffe-4353-e8ca-46566da364e2",
        "colab": {
          "base_uri": "https://localhost:8080/",
          "height": 51
        }
      },
      "source": [
        "pred_hybrid = m_collective.predict_cold_multiple(item=ratings_test3.ItemId,\n",
        "                                                 U=user_attr_test.loc[ratings_test3.UserId])\n",
        "print(\"RMSE type 3 hybrid model: %.3f  [rho: %.3f]\" %\n",
        "      (mean_squared_error(ratings_test3.Rating,\n",
        "                          pred_hybrid,\n",
        "                          squared=True),\n",
        "       np.corrcoef(ratings_test3.Rating, pred_hybrid)[0,1]))\n",
        "\n",
        "pred_contentbased = m_contentbased.predict_new(user_attr_test.loc[ratings_test3.UserId],\n",
        "                                               item_attr_test.loc[ratings_test3.ItemId])\n",
        "print(\"RMSE type 3 content-based model: %.3f [rho: %.3f]\" %\n",
        "      (mean_squared_error(ratings_test3.Rating,\n",
        "                          pred_contentbased,\n",
        "                          squared=True),\n",
        "       np.corrcoef(ratings_test3.Rating, pred_contentbased)[0,1]))"
      ],
      "execution_count": 32,
      "outputs": [
        {
          "output_type": "stream",
          "text": [
            "RMSE type 3 hybrid model: 0.974  [rho: 0.470]\n",
            "RMSE type 3 content-based model: 0.962 [rho: 0.468]\n"
          ],
          "name": "stdout"
        }
      ]
    },
    {
      "cell_type": "markdown",
      "metadata": {
        "id": "Tn0tjv_f_Rof",
        "colab_type": "text"
      },
      "source": [
        "RMSE for users and items which were not in the training data:"
      ]
    },
    {
      "cell_type": "code",
      "metadata": {
        "id": "KlGWexUb_Rog",
        "colab_type": "code",
        "outputId": "dd798432-be51-4bbb-99bb-8862e4e3e758",
        "colab": {
          "base_uri": "https://localhost:8080/",
          "height": 34
        }
      },
      "source": [
        "pred_contentbased = m_contentbased.predict_new(user_attr_test.loc[ratings_test4.UserId],\n",
        "                                               item_attr_test.loc[ratings_test4.ItemId])\n",
        "print(\"RMSE type 4 content-based model: %.3f [rho: %.3f]\" %\n",
        "      (mean_squared_error(ratings_test4.Rating,\n",
        "                          pred_contentbased,\n",
        "                          squared=True),\n",
        "      np.corrcoef(ratings_test4.Rating, pred_contentbased)[0,1]))"
      ],
      "execution_count": 33,
      "outputs": [
        {
          "output_type": "stream",
          "text": [
            "RMSE type 4 content-based model: 0.973 [rho: 0.462]\n"
          ],
          "name": "stdout"
        }
      ]
    },
    {
      "cell_type": "markdown",
      "metadata": {
        "id": "HZ3Ic9YB_Roj",
        "colab_type": "text"
      },
      "source": [
        "<a id=\"p7\"></a>\n",
        "## 7. References\n",
        "\n",
        "* Cortes, David. \"Cold-start recommendations in Collective Matrix Factorization.\" arXiv preprint arXiv:1809.00366 (2018).\n",
        "* Singh, Ajit P., and Geoffrey J. Gordon. \"Relational learning via collective matrix factorization.\" Proceedings of the 14th ACM SIGKDD international conference on Knowledge discovery and data mining. ACM, 2008."
      ]
    }
  ]
}